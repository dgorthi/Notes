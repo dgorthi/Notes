{
 "cells": [
  {
   "cell_type": "code",
   "execution_count": 1,
   "metadata": {},
   "outputs": [],
   "source": [
    "%matplotlib notebook\n",
    "import matplotlib.pyplot as plt\n",
    "import numpy as np\n",
    "from hera_cal import redcal\n",
    "import linsolve"
   ]
  },
  {
   "cell_type": "code",
   "execution_count": 2,
   "metadata": {},
   "outputs": [],
   "source": [
    "Nants = 37\n",
    "\n",
    "ants = np.loadtxt('antenna_positions_%d.dat'%Nants)\n",
    "antpos = {k:v for k,v in zip(range(Nants),ants)}\n",
    "reds = redcal.get_reds(antpos)"
   ]
  },
  {
   "cell_type": "code",
   "execution_count": 3,
   "metadata": {},
   "outputs": [],
   "source": [
    "def calibrate(data,gains):\n",
    "    calib_data = {}\n",
    "    for (i, j, pol) in data.keys():\n",
    "        calib_data[(i, j, pol)] = data[(i, j, pol)]/(gains[(i,'Jxx')] * np.conj(gains[(j,'Jxx')]))\n",
    "    return calib_data\n",
    "\n",
    "def average_red_vis(data, gains, subreds):\n",
    "    sub_bl_visib = calibrate(data, gains)\n",
    "    vis = 0\n",
    "    for subbl in subreds:\n",
    "        vis += sub_bl_visib[subbl]/len(subreds)\n",
    "    return vis\n",
    "\n",
    "def optimize_red_vis(data, gains, subreds):\n",
    "    eqs = {}; const = {}\n",
    "    for (i,j,pol) in subreds:\n",
    "        eqs['g_%d * g_%d_ * V'%(i,j)] = data[(i,j,pol)]\n",
    "\n",
    "    for i in range(37):\n",
    "        const['g_%d'%(i)] = gains[(i,'Jxx')]    \n",
    "\n",
    "    lps = linsolve.LinearSolver(eqs, **const)\n",
    "    X = lps.solve()\n",
    "    return X['V']"
   ]
  },
  {
   "cell_type": "code",
   "execution_count": null,
   "metadata": {},
   "outputs": [],
   "source": []
  }
 ],
 "metadata": {
  "kernelspec": {
   "display_name": "Python 2",
   "language": "python",
   "name": "python2"
  },
  "language_info": {
   "codemirror_mode": {
    "name": "ipython",
    "version": 2
   },
   "file_extension": ".py",
   "mimetype": "text/x-python",
   "name": "python",
   "nbconvert_exporter": "python",
   "pygments_lexer": "ipython2",
   "version": "2.7.15"
  }
 },
 "nbformat": 4,
 "nbformat_minor": 2
}
