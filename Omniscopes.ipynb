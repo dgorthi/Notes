{
 "cells": [
  {
   "cell_type": "code",
   "execution_count": 40,
   "metadata": {},
   "outputs": [],
   "source": [
    "%matplotlib notebook\n",
    "import numpy as np\n",
    "import matplotlib.pyplot as plt\n",
    "import scipy.signal"
   ]
  },
  {
   "cell_type": "code",
   "execution_count": 2,
   "metadata": {},
   "outputs": [],
   "source": [
    "x = np.asarray([1, 2, 3, 0, 0, 0, 4, 5, 6])"
   ]
  },
  {
   "cell_type": "markdown",
   "metadata": {},
   "source": [
    "## Convolve"
   ]
  },
  {
   "cell_type": "code",
   "execution_count": 3,
   "metadata": {},
   "outputs": [
    {
     "data": {
      "text/plain": [
       "array([ 6, 17, 32, 23, 12,  0, 27, 58, 91, 58, 27,  0, 12, 23, 32, 17,  6])"
      ]
     },
     "execution_count": 3,
     "metadata": {},
     "output_type": "execute_result"
    }
   ],
   "source": [
    "np.convolve(x,x[::-1])"
   ]
  },
  {
   "cell_type": "markdown",
   "metadata": {},
   "source": [
    "## 1D FFT"
   ]
  },
  {
   "cell_type": "code",
   "execution_count": 9,
   "metadata": {},
   "outputs": [
    {
     "name": "stdout",
     "output_type": "stream",
     "text": [
      "[ 0.  6. 17. 32. 23. 12.  0. 27. 58. 91. 58. 27.  0. 12. 23. 32. 17.  6.]\n"
     ]
    }
   ],
   "source": [
    "x1 = np.append(x,np.zeros_like(x))\n",
    "\n",
    "print np.round(np.fft.fftshift(np.abs(np.fft.ifft(np.abs(np.fft.fft(x1))**2))),decimals=0)"
   ]
  },
  {
   "cell_type": "markdown",
   "metadata": {},
   "source": [
    "## 2D FFT"
   ]
  },
  {
   "cell_type": "code",
   "execution_count": 18,
   "metadata": {},
   "outputs": [
    {
     "name": "stdout",
     "output_type": "stream",
     "text": [
      "[[1 2 3 0 0 0]\n",
      " [4 5 6 0 0 0]\n",
      " [0 0 0 0 0 0]\n",
      " [0 0 0 0 0 0]]\n"
     ]
    }
   ],
   "source": [
    "x2d = x.reshape(-1,3)[::2]\n",
    "x2d_zp = np.hstack((x2d,np.zeros_like(x2d)))\n",
    "x2d_zp = np.vstack((x2d_zp, np.zeros_like(x2d_zp)))\n",
    "\n",
    "print x2d_zp"
   ]
  },
  {
   "cell_type": "code",
   "execution_count": 27,
   "metadata": {},
   "outputs": [
    {
     "data": {
      "text/plain": [
       "array([[ 0.,  0.,  0.,  0.,  0.,  0.],\n",
       "       [ 0.,  6., 17., 32., 23., 12.],\n",
       "       [ 0., 27., 58., 91., 58., 27.],\n",
       "       [ 0., 12., 23., 32., 17.,  6.]])"
      ]
     },
     "execution_count": 27,
     "metadata": {},
     "output_type": "execute_result"
    }
   ],
   "source": [
    "np.round(np.fft.fftshift(np.abs(np.fft.ifft2(np.abs(np.fft.fft2(x2d_zp))**2))),decimals=0)"
   ]
  },
  {
   "cell_type": "code",
   "execution_count": 46,
   "metadata": {},
   "outputs": [
    {
     "data": {
      "text/plain": [
       "array([[ 6, 17, 32, 23, 12],\n",
       "       [27, 58, 91, 58, 27],\n",
       "       [12, 23, 32, 17,  6]])"
      ]
     },
     "execution_count": 46,
     "metadata": {},
     "output_type": "execute_result"
    }
   ],
   "source": [
    "scipy.signal.convolve2d(x2d,x2d[::-1,::-1])"
   ]
  },
  {
   "cell_type": "markdown",
   "metadata": {},
   "source": [
    "## 2D FFTs in terms of 1D FFTs\n",
    "\n",
    "1. 1D FFT the rows\n",
    "2. 1D FFT the columns from the previous step"
   ]
  },
  {
   "cell_type": "code",
   "execution_count": 32,
   "metadata": {},
   "outputs": [
    {
     "data": {
      "text/plain": [
       "array([6.  , 4.36, 1.73, 2.  , 1.73, 4.36])"
      ]
     },
     "execution_count": 32,
     "metadata": {},
     "output_type": "execute_result"
    }
   ],
   "source": [
    "np.round(np.abs(np.fft.fft([1,2,3,0,0,0])),decimals=2)"
   ]
  },
  {
   "cell_type": "code",
   "execution_count": 30,
   "metadata": {},
   "outputs": [
    {
     "data": {
      "text/plain": [
       "array([[ 6.  ,  4.36,  1.73,  2.  ,  1.73,  4.36],\n",
       "       [15.  , 10.15,  1.73,  5.  ,  1.73, 10.15],\n",
       "       [ 0.  ,  0.  ,  0.  ,  0.  ,  0.  ,  0.  ],\n",
       "       [ 0.  ,  0.  ,  0.  ,  0.  ,  0.  ,  0.  ]])"
      ]
     },
     "execution_count": 30,
     "metadata": {},
     "output_type": "execute_result"
    }
   ],
   "source": [
    "np.round(np.abs(np.fft.fft(x2d_zp)),decimals=2)"
   ]
  },
  {
   "cell_type": "code",
   "execution_count": 36,
   "metadata": {},
   "outputs": [],
   "source": [
    "Fx2d = np.transpose(np.fft.fft(np.transpose(np.fft.fft(x2d_zp))))"
   ]
  },
  {
   "cell_type": "code",
   "execution_count": 38,
   "metadata": {},
   "outputs": [
    {
     "data": {
      "text/plain": [
       "True"
      ]
     },
     "execution_count": 38,
     "metadata": {},
     "output_type": "execute_result"
    }
   ],
   "source": [
    "np.all(np.isclose(Fx2d, np.fft.fft2(x2d_zp)))"
   ]
  },
  {
   "cell_type": "markdown",
   "metadata": {},
   "source": [
    "# Hexagons!"
   ]
  },
  {
   "cell_type": "code",
   "execution_count": 54,
   "metadata": {},
   "outputs": [
    {
     "data": {
      "text/plain": [
       "array([array([1, 2]), array([3, 4, 5]), array([6, 7])], dtype=object)"
      ]
     },
     "execution_count": 54,
     "metadata": {},
     "output_type": "execute_result"
    }
   ],
   "source": [
    "h = np.array([np.asarray([1,2]),np.asarray([3,4,5]),np.asarray([6,7])])\n",
    "h"
   ]
  },
  {
   "cell_type": "code",
   "execution_count": 55,
   "metadata": {},
   "outputs": [
    {
     "data": {
      "text/plain": [
       "array([[0, 1, 0, 2, 0],\n",
       "       [3, 0, 4, 0, 5],\n",
       "       [0, 6, 0, 7, 0]])"
      ]
     },
     "execution_count": 55,
     "metadata": {},
     "output_type": "execute_result"
    }
   ],
   "source": [
    "h = np.asarray([[0,1,0,2,0],[3,0,4,0,5],[0,6,0,7,0]])\n",
    "h"
   ]
  },
  {
   "cell_type": "code",
   "execution_count": 56,
   "metadata": {},
   "outputs": [
    {
     "data": {
      "text/plain": [
       "array([[  0,   0,   7,   0,  20,   0,  12,   0,   0],\n",
       "       [  0,  26,   0,  60,   0,  70,   0,  36,   0],\n",
       "       [ 15,   0,  76,   0, 140,   0,  76,   0,  15],\n",
       "       [  0,  36,   0,  70,   0,  60,   0,  26,   0],\n",
       "       [  0,   0,  12,   0,  20,   0,   7,   0,   0]])"
      ]
     },
     "execution_count": 56,
     "metadata": {},
     "output_type": "execute_result"
    }
   ],
   "source": [
    "scipy.signal.convolve2d(h,h[::-1,::-1])"
   ]
  },
  {
   "cell_type": "markdown",
   "metadata": {},
   "source": [
    "## 3D FFTs\n",
    "\n",
    "1. 1D FFT in x\n",
    "2. 1D FFT step-1 in y\n",
    "3. 1D FFT step-2 in z"
   ]
  },
  {
   "cell_type": "code",
   "execution_count": null,
   "metadata": {},
   "outputs": [],
   "source": []
  }
 ],
 "metadata": {
  "kernelspec": {
   "display_name": "Python 2",
   "language": "python",
   "name": "python2"
  },
  "language_info": {
   "codemirror_mode": {
    "name": "ipython",
    "version": 2
   },
   "file_extension": ".py",
   "mimetype": "text/x-python",
   "name": "python",
   "nbconvert_exporter": "python",
   "pygments_lexer": "ipython2",
   "version": "2.7.15"
  }
 },
 "nbformat": 4,
 "nbformat_minor": 2
}
