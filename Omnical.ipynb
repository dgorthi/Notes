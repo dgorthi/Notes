{
 "cells": [
  {
   "cell_type": "code",
   "execution_count": 1,
   "metadata": {},
   "outputs": [],
   "source": [
    "%matplotlib notebook\n",
    "import matplotlib.pyplot as plt\n",
    "import numpy as np\n",
    "from hera_cal import redcal\n",
    "import linsolve"
   ]
  },
  {
   "cell_type": "code",
   "execution_count": 2,
   "metadata": {},
   "outputs": [],
   "source": [
    "Nants = 37\n",
    "\n",
    "ants = np.loadtxt('antenna_positions_%d.dat'%Nants)\n",
    "antpos = {k:v for k,v in zip(range(37),ants)}\n",
    "reds = redcal.get_reds(antpos)"
   ]
  },
  {
   "cell_type": "code",
   "execution_count": 3,
   "metadata": {},
   "outputs": [],
   "source": [
    "def calibrate(data,gains):\n",
    "    calib_data = {}\n",
    "    for (i, j, pol) in data.keys():\n",
    "        calib_data[(i, j, pol)] = data[(i, j, pol)]/(gains[(i,'Jxx')] * np.conj(gains[(j,'Jxx')]))\n",
    "    return calib_data\n",
    "\n",
    "def average_red_vis(data, gains, subreds):\n",
    "    sub_bl_visib = calibrate(data, gains)\n",
    "    vis = 0\n",
    "    for subbl in subreds:\n",
    "        vis += sub_bl_visib[subbl]/len(subreds)\n",
    "    return vis\n",
    "\n",
    "def optimize_red_vis(data, gains, subreds):\n",
    "    eqs = {}; const = {}\n",
    "    for (i,j,pol) in subreds:\n",
    "        eqs['g_%d * g_%d_ * V'%(i,j)] = data[(i,j,pol)]\n",
    "\n",
    "    for i in range(37):\n",
    "        const['g_%d'%(i)] = gains[(i,'Jxx')]    \n",
    "\n",
    "    lps = linsolve.LinearSolver(eqs, **const)\n",
    "    X = lps.solve()\n",
    "    return X['V']"
   ]
  },
  {
   "cell_type": "code",
   "execution_count": 4,
   "metadata": {},
   "outputs": [],
   "source": [
    "subredbls = reds[0:3]\n",
    "subviskeys = [(0,1,'xx'),(0,4,'xx'),(0,5,'xx')]"
   ]
  },
  {
   "cell_type": "code",
   "execution_count": null,
   "metadata": {},
   "outputs": [],
   "source": [
    "# Simulated Visibilities and Gains\n",
    "\n",
    "Nsim = 256\n",
    "true_gains, true_vis, true_data = redcal.sim_red_data(reds, shape=(1, Nsim), gain_scatter=0)"
   ]
  },
  {
   "cell_type": "markdown",
   "metadata": {},
   "source": [
    "# No Noise, Solution Starting point\n",
    "\n",
    "In this simple case, both *redcal* and *subredcal* take no steps to converge and result in a chisq of zero as expected."
   ]
  },
  {
   "cell_type": "code",
   "execution_count": null,
   "metadata": {},
   "outputs": [],
   "source": [
    "sigma = 0\n",
    "\n",
    "data = {k:v+ sigma*redcal.noise((1, Nsim)) for k,v in true_data.items()}"
   ]
  },
  {
   "cell_type": "code",
   "execution_count": null,
   "metadata": {},
   "outputs": [],
   "source": [
    "# Redcal\n",
    "startp = {k:v for k,v in true_gains.items()}\n",
    "startp.update({k:v for k,v in true_vis.items()})\n",
    "\n",
    "redcalibrator = redcal.RedundantCalibrator(reds)\n",
    "sol_degen = redcalibrator.omnical(data, startp)\n",
    "sol = redcalibrator.remove_degen(sol_degen[1], degen_sol= true_gains)"
   ]
  },
  {
   "cell_type": "code",
   "execution_count": null,
   "metadata": {},
   "outputs": [],
   "source": [
    "chisq = 0\n",
    "for k in true_vis.keys():\n",
    "    subreds = [bls for bls in reds if k in bls][0]\n",
    "    for (i,j,pol) in subreds:\n",
    "        chisq += np.abs((sol[(i,'Jxx')]*np.conj(sol[(j,'Jxx')])*sol[k])- data[(i,j,pol)])**2\n",
    "#chisq = chisq/((666-100+2)*sigma**2)\n",
    "print np.median(chisq[0]), np.mean(chisq[0])"
   ]
  },
  {
   "cell_type": "code",
   "execution_count": null,
   "metadata": {},
   "outputs": [],
   "source": [
    "# Subredcal\n",
    "redcalibrator_sub = redcal.RedundantCalibrator(subredbls)\n",
    "\n",
    "subsol_degen = {k:v for k,v in true_gains.items()}\n",
    "subsol_degen.update({k:v for k,v in true_vis.items() if k in subviskeys})\n",
    "\n",
    "subsol_degen = redcalibrator_sub.omnical(data, subsol_degen) #gain=0.3, #wgts= wgts, \n",
    "                                         #check_after= 1, maxiter= 5000)\n",
    "subsol = redcalibrator_sub.remove_degen(subsol_degen[1], degen_sol= true_gains)"
   ]
  },
  {
   "cell_type": "code",
   "execution_count": null,
   "metadata": {},
   "outputs": [],
   "source": [
    "chisq_sub = 0\n",
    "for k in subviskeys:\n",
    "    subreds = [bls for bls in reds if k in bls][0]\n",
    "    for (i,j,pol) in subreds:\n",
    "        chisq_sub += np.abs((subsol[(i,'Jxx')]*np.conj(subsol[(j,'Jxx')])*subsol[k])- data[(i,j,pol)])**2\n",
    "        \n",
    "#chisq_sub = chisq_sub/((90-40+2)*sigma**2)\n",
    "print np.median(chisq_sub[0]), np.mean(chisq_sub[0])"
   ]
  },
  {
   "cell_type": "markdown",
   "metadata": {},
   "source": [
    "# No Noise, Flat and Logcal Priors\n",
    "\n",
    "1. Even with no noise, no scatter and flat priors *redcal*  and *subredcal* both fail to converge to a solution consistently. This proves that **omnical cannot** converge to a solution unless the starting point is close to the solution already.\n",
    "\n",
    "2. With *logcal* determining the starting point, both *redcal* and *subredcal* converge to a solution consistently."
   ]
  },
  {
   "cell_type": "code",
   "execution_count": null,
   "metadata": {},
   "outputs": [],
   "source": [
    "# Redcal\n",
    "\n",
    "redcalibrator = redcal.RedundantCalibrator(reds)\n",
    "\n",
    "# startp = {k:np.ones_like(v) for k,v in true_gains.items()}\n",
    "# startp.update({k:np.ones_like(v) for k,v in true_vis.items()})\n",
    "startp = redcalibrator.logcal(data)\n",
    "\n",
    "sol_degen = redcalibrator.omnical(data, startp)\n",
    "sol = redcalibrator.remove_degen(sol_degen[1], degen_sol= true_gains)"
   ]
  },
  {
   "cell_type": "code",
   "execution_count": null,
   "metadata": {},
   "outputs": [],
   "source": [
    "chisq = 0\n",
    "for k in true_vis.keys():\n",
    "    subreds = [bls for bls in reds if k in bls][0]\n",
    "    for (i,j,pol) in subreds:\n",
    "        chisq += np.abs((sol[(i,'Jxx')]*np.conj(sol[(j,'Jxx')])*sol[k])- data[(i,j,pol)])**2\n",
    "#chisq = chisq/((666-100+2)*sigma**2)\n",
    "print np.median(chisq[0]), np.mean(chisq[0])"
   ]
  },
  {
   "cell_type": "code",
   "execution_count": null,
   "metadata": {},
   "outputs": [],
   "source": [
    "# Subredcal\n",
    "redcalibrator_sub = redcal.RedundantCalibrator(subredbls)\n",
    "\n",
    "# startp = {k:np.ones_like(v) for k,v in true_gains.items()}\n",
    "# sstartp.update({k:np.ones_like(v) for k,v in true_vis.items() if k in subviskeys})\n",
    "\n",
    "startp = redcalibrator_sub.logcal(data)\n",
    "\n",
    "subsol_degen = redcalibrator_sub.omnical(data, startp)\n",
    "subsol = redcalibrator_sub.remove_degen(subsol_degen[1], degen_sol= true_gains)"
   ]
  },
  {
   "cell_type": "code",
   "execution_count": null,
   "metadata": {},
   "outputs": [],
   "source": [
    "chisq_sub = 0\n",
    "for k in subviskeys:\n",
    "    subreds = [bls for bls in reds if k in bls][0]\n",
    "    for (i,j,pol) in subreds:\n",
    "        chisq_sub += np.abs((subsol[(i,'Jxx')]*np.conj(subsol[(j,'Jxx')])*subsol[k])- data[(i,j,pol)])**2\n",
    "        \n",
    "#chisq_sub = chisq_sub/((90-40+2)*sigma**2)\n",
    "print np.median(chisq_sub[0]), np.mean(chisq_sub[0])"
   ]
  },
  {
   "cell_type": "markdown",
   "metadata": {},
   "source": [
    "# No Noise, Offset Starting Point\n",
    "\n",
    "Without noise, *omnical*:\n",
    "\n",
    "1. **Converges** for the solution as the starting point without any steps.\n",
    "2. **Does not converge** for flat priors as the starting point\n",
    "3. **Converges** for *logcal* priors by taking the maximum iterations allowed.\n",
    "\n",
    "Conclusion: The starting point of omnical critically determines if the algorithm can converge to a solution or not. What is the leeway for this starting point? In the absence of noise, to what percentage of the solution should the starting point be evaluated at?"
   ]
  },
  {
   "cell_type": "code",
   "execution_count": null,
   "metadata": {},
   "outputs": [],
   "source": [
    "# Redcal\n",
    "\n",
    "redcalibrator = redcal.RedundantCalibrator(reds)\n",
    "\n",
    "startp = {k:v+0.3*np.random.normal(size=np.shape(v)) for k,v in true_gains.items()}      # 30% error\n",
    "startp.update({k:v+0.3*np.random.normal(size=np.shape(v)) for k,v in true_vis.items()})\n",
    "\n",
    "sol_degen = redcalibrator.omnical(data, startp)\n",
    "sol = redcalibrator.remove_degen(sol_degen[1], degen_sol= true_gains)"
   ]
  },
  {
   "cell_type": "code",
   "execution_count": null,
   "metadata": {},
   "outputs": [],
   "source": [
    "#bins = np.logspace(-5,-2,num=32,base=10)\n",
    "plt.figure()\n",
    "for k,g in true_gains.items():\n",
    "    plt.hist(np.abs(sol[k]-true_gains[k])[0], bins=32, alpha=0.5)"
   ]
  },
  {
   "cell_type": "code",
   "execution_count": null,
   "metadata": {},
   "outputs": [],
   "source": [
    "chisq = 0\n",
    "for k in true_vis.keys():\n",
    "    subreds = [bls for bls in reds if k in bls][0]\n",
    "    for (i,j,pol) in subreds:\n",
    "        chisq += np.abs((sol[(i,'Jxx')]*np.conj(sol[(j,'Jxx')])*sol[k])- data[(i,j,pol)])**2\n",
    "\n",
    "print np.median(chisq[0]), np.mean(chisq[0])\n",
    "print np.where(chisq[0]>1)"
   ]
  },
  {
   "cell_type": "code",
   "execution_count": null,
   "metadata": {},
   "outputs": [],
   "source": [
    "# Subredcal\n",
    "redcalibrator_sub = redcal.RedundantCalibrator(subredbls)\n",
    "\n",
    "startp = {k:v+0.1*np.random.normal(size=np.shape(v)) for k,v in true_gains.items()}\n",
    "startp.update({k:v+0.1*np.random.normal(size=np.shape(v)) for k,v in true_vis.items() if k in subviskeys})\n",
    "\n",
    "subsol_degen = redcalibrator_sub.omnical(data, startp)\n",
    "subsol = redcalibrator_sub.remove_degen(subsol_degen[1], degen_sol= true_gains)"
   ]
  },
  {
   "cell_type": "code",
   "execution_count": null,
   "metadata": {},
   "outputs": [],
   "source": [
    "chisq_sub = 0\n",
    "for k in subviskeys:\n",
    "    subreds = [bls for bls in reds if k in bls][0]\n",
    "    for (i,j,pol) in subreds:\n",
    "        chisq_sub += np.abs((subsol[(i,'Jxx')]*np.conj(subsol[(j,'Jxx')])*subsol[k])- data[(i,j,pol)])**2\n",
    "        \n",
    "print np.median(chisq_sub[0]), np.mean(chisq_sub[0])\n",
    "print np.where(chisq_sub[0]>1)"
   ]
  },
  {
   "cell_type": "code",
   "execution_count": null,
   "metadata": {},
   "outputs": [],
   "source": [
    "model_vis_sub = {}\n",
    "for k in true_vis.keys():\n",
    "    if k in subsol.keys():\n",
    "        model_vis_sub[k] = subsol[k]\n",
    "    else:\n",
    "        subreds = [bls for bls in reds if k in bls][0]\n",
    "        model_vis_sub[k] = optimize_red_vis(data, subsol, subreds)\n",
    "\n",
    "chisq = 0\n",
    "for k in true_vis.keys():\n",
    "    subreds = [bls for bls in reds if k in bls][0]\n",
    "    for (i,j,pol) in subreds:\n",
    "        chisq += np.abs((subsol[(i,'Jxx')]*np.conj(subsol[(j,'Jxx')])*model_vis_sub[k])- data[(i,j,pol)])**2\n",
    "\n",
    "print np.median(chisq[0]), np.mean(chisq[0])"
   ]
  },
  {
   "cell_type": "markdown",
   "metadata": {},
   "source": [
    "# Low Noise, Solution Starting Point"
   ]
  },
  {
   "cell_type": "code",
   "execution_count": null,
   "metadata": {},
   "outputs": [],
   "source": [
    "sigma = 0.01  # 1% noise, snr = 100\n",
    "\n",
    "data = {k:v+ sigma*redcal.noise((1, Nsim)) for k,v in true_data.items()}"
   ]
  },
  {
   "cell_type": "code",
   "execution_count": null,
   "metadata": {},
   "outputs": [],
   "source": [
    "# Redcal\n",
    "startp = {k:v for k,v in true_gains.items()}\n",
    "startp.update({k:v for k,v in true_vis.items()})\n",
    "\n",
    "redcalibrator = redcal.RedundantCalibrator(reds)\n",
    "sol_degen = redcalibrator.omnical(data, startp)\n",
    "sol = redcalibrator.remove_degen(sol_degen[1], degen_sol= true_gains)"
   ]
  },
  {
   "cell_type": "code",
   "execution_count": null,
   "metadata": {},
   "outputs": [],
   "source": [
    "chisq = 0\n",
    "for k in true_vis.keys():\n",
    "    subreds = [bls for bls in reds if k in bls][0]\n",
    "    for (i,j,pol) in subreds:\n",
    "        chisq += np.abs((sol[(i,'Jxx')]*np.conj(sol[(j,'Jxx')])*sol[k])- data[(i,j,pol)])**2\n",
    "chisq = chisq/((666-100+2)*sigma**2)\n",
    "print np.median(chisq[0]), np.mean(chisq[0])"
   ]
  },
  {
   "cell_type": "code",
   "execution_count": null,
   "metadata": {},
   "outputs": [],
   "source": [
    "# Subredcal\n",
    "redcalibrator_sub = redcal.RedundantCalibrator(subredbls)\n",
    "\n",
    "startp = {k:v for k,v in true_gains.items()}\n",
    "startp.update({k:v for k,v in true_vis.items() if k in subviskeys})\n",
    "\n",
    "subsol_degen = redcalibrator_sub.omnical(data, startp)\n",
    "subsol = redcalibrator_sub.remove_degen(subsol_degen[1], degen_sol= true_gains)"
   ]
  },
  {
   "cell_type": "code",
   "execution_count": null,
   "metadata": {},
   "outputs": [],
   "source": [
    "chisq_sub = 0\n",
    "for k in subviskeys:\n",
    "    subreds = [bls for bls in reds if k in bls][0]\n",
    "    for (i,j,pol) in subreds:\n",
    "        chisq_sub += np.abs((subsol[(i,'Jxx')]*np.conj(subsol[(j,'Jxx')])*subsol[k])- data[(i,j,pol)])**2\n",
    "        \n",
    "chisq_sub = chisq_sub/((90-40+2)*sigma**2)\n",
    "print np.median(chisq_sub[0]), np.mean(chisq_sub[0])"
   ]
  },
  {
   "cell_type": "code",
   "execution_count": null,
   "metadata": {},
   "outputs": [],
   "source": [
    "model_vis_sub = {}\n",
    "for k in true_vis.keys():\n",
    "    if k in subsol.keys():\n",
    "        model_vis_sub[k] = subsol[k]\n",
    "    else:\n",
    "        subreds = [bls for bls in reds if k in bls][0]\n",
    "        model_vis_sub[k] = optimize_red_vis(data, subsol, subreds)\n",
    "\n",
    "chisq = 0\n",
    "for k in true_vis.keys():\n",
    "    subreds = [bls for bls in reds if k in bls][0]\n",
    "    for (i,j,pol) in subreds:\n",
    "        chisq += np.abs((subsol[(i,'Jxx')]*np.conj(subsol[(j,'Jxx')])*model_vis_sub[k])- data[(i,j,pol)])**2\n",
    "chisq = chisq/((666-100+2)*sigma**2)\n",
    "print np.median(chisq[0]), np.mean(chisq[0])"
   ]
  },
  {
   "cell_type": "markdown",
   "metadata": {},
   "source": [
    "# Low Noise, LogCal"
   ]
  },
  {
   "cell_type": "code",
   "execution_count": null,
   "metadata": {},
   "outputs": [],
   "source": [
    "# Redcal\n",
    "redcalibrator = redcal.RedundantCalibrator(reds)\n",
    "\n",
    "startp = redcalibrator.logcal(data)\n",
    "# startp = {k:np.ones_like(v) for k,v in true_gains.items()}\n",
    "# startp.update({k:np.ones_like(v) for k,v in true_vis.items()})\n",
    "\n",
    "sol_degen = redcalibrator.omnical(data, startp)\n",
    "sol = redcalibrator.remove_degen(sol_degen[1], degen_sol= true_gains)"
   ]
  },
  {
   "cell_type": "code",
   "execution_count": null,
   "metadata": {},
   "outputs": [],
   "source": [
    "chisq = 0\n",
    "for k in true_vis.keys():\n",
    "    subreds = [bls for bls in reds if k in bls][0]\n",
    "    for (i,j,pol) in subreds:\n",
    "        chisq += np.abs((sol[(i,'Jxx')]*np.conj(sol[(j,'Jxx')])*sol[k])- data[(i,j,pol)])**2\n",
    "chisq = chisq/((666-100+2)*sigma**2)\n",
    "print np.median(chisq[0]), np.mean(chisq[0])"
   ]
  },
  {
   "cell_type": "code",
   "execution_count": null,
   "metadata": {},
   "outputs": [],
   "source": [
    "# Subredcal\n",
    "redcalibrator_sub = redcal.RedundantCalibrator(subredbls)\n",
    "\n",
    "startp = redcalibrator_sub.logcal(data)\n",
    "# startp = {k:np.ones_like(v) for k,v in true_gains.items()}\n",
    "# startp.update({k:np.ones_like(v) for k,v in true_vis.items() if k in subviskeys})\n",
    "\n",
    "subsol_degen = redcalibrator_sub.omnical(data, startp)\n",
    "subsol = redcalibrator_sub.remove_degen(subsol_degen[1], degen_sol= true_gains)"
   ]
  },
  {
   "cell_type": "code",
   "execution_count": null,
   "metadata": {},
   "outputs": [],
   "source": [
    "np.where(subsol_degen[0]['chisq'][0] > 1)"
   ]
  },
  {
   "cell_type": "code",
   "execution_count": null,
   "metadata": {},
   "outputs": [],
   "source": [
    "chisq_sub = 0\n",
    "for k in subviskeys:\n",
    "    subreds = [bls for bls in reds if k in bls][0]\n",
    "    for (i,j,pol) in subreds:\n",
    "        chisq_sub += np.abs((subsol[(i,'Jxx')]*np.conj(subsol[(j,'Jxx')])*subsol[k])- data[(i,j,pol)])**2\n",
    "        \n",
    "chisq_sub = chisq_sub/((90-40+2)*sigma**2)\n",
    "print np.median(chisq_sub[0]), np.mean(chisq_sub[0])"
   ]
  },
  {
   "cell_type": "code",
   "execution_count": null,
   "metadata": {},
   "outputs": [],
   "source": [
    "model_vis_sub = {}\n",
    "for k in true_vis.keys():\n",
    "    if k in subsol.keys():\n",
    "        model_vis_sub[k] = subsol[k]\n",
    "    else:\n",
    "        subreds = [bls for bls in reds if k in bls][0]\n",
    "        model_vis_sub[k] = optimize_red_vis(data, subsol, subreds)\n",
    "        \n",
    "chisq = 0\n",
    "for k in true_vis.keys():\n",
    "    subreds = [bls for bls in reds if k in bls][0]\n",
    "    for (i,j,pol) in subreds:\n",
    "        chisq += np.abs((subsol[(i,'Jxx')]*np.conj(subsol[(j,'Jxx')])*model_vis_sub[k])- data[(i,j,pol)])**2\n",
    "chisq = chisq/((666-100+2)*sigma**2)\n",
    "print np.median(chisq[0]), np.mean(chisq[0])"
   ]
  },
  {
   "cell_type": "markdown",
   "metadata": {},
   "source": [
    "# Subredcal: Low Noise, Flat Priors on Only Visibilities\n",
    "\n",
    "Flat priors on only visibilities also does not result in a convergence!"
   ]
  },
  {
   "cell_type": "code",
   "execution_count": null,
   "metadata": {},
   "outputs": [],
   "source": [
    "# Subredcal\n",
    "redcalibrator_sub = redcal.RedundantCalibrator(subredbls)\n",
    "\n",
    "subsol_degen = {k:v for k,v in true_gains.items()}\n",
    "subsol_degen.update({k:np.ones_like(v) for k,v in true_vis.items() if k in subviskeys})\n",
    "\n",
    "subsol_degen = redcalibrator_sub.omnical(data, subsol_degen, maxiter=300)\n",
    "subsol = redcalibrator_sub.remove_degen(subsol_degen[1], degen_sol= true_gains)"
   ]
  },
  {
   "cell_type": "code",
   "execution_count": null,
   "metadata": {},
   "outputs": [],
   "source": [
    "np.where(subsol_degen[0]['chisq'][0] > 1)"
   ]
  },
  {
   "cell_type": "code",
   "execution_count": null,
   "metadata": {},
   "outputs": [],
   "source": [
    "chisq_sub = 0\n",
    "for k in subviskeys:\n",
    "    subreds = [bls for bls in reds if k in bls][0]\n",
    "    for (i,j,pol) in subreds:\n",
    "        chisq_sub += np.abs((subsol[(i,'Jxx')]*np.conj(subsol[(j,'Jxx')])*subsol[k])- data[(i,j,pol)])**2\n",
    "        \n",
    "chisq_sub = chisq_sub/((90-40+2)*sigma**2)\n",
    "print np.median(chisq_sub[0]), np.mean(chisq_sub[0])\n",
    "print np.where(chisq_sub[0] > 1.5)"
   ]
  },
  {
   "cell_type": "markdown",
   "metadata": {},
   "source": [
    "# Low Noise, Gain Scatter, Solution Starting Point"
   ]
  },
  {
   "cell_type": "code",
   "execution_count": 5,
   "metadata": {},
   "outputs": [],
   "source": [
    "# Simulated Visibilities and Gains\n",
    "\n",
    "Nsim = 256\n",
    "true_gains, true_vis, true_data = redcal.sim_red_data(reds, shape=(1, Nsim), gain_scatter=0.1)"
   ]
  },
  {
   "cell_type": "code",
   "execution_count": null,
   "metadata": {},
   "outputs": [],
   "source": [
    "sigma = 0.01  # 1% noise\n",
    "\n",
    "data = {k:v+ sigma*redcal.noise((1, Nsim)) for k,v in true_data.items()}"
   ]
  },
  {
   "cell_type": "code",
   "execution_count": null,
   "metadata": {},
   "outputs": [],
   "source": [
    "# Redcal\n",
    "startp = {k:v for k,v in true_gains.items()}\n",
    "startp.update({k:v for k,v in true_vis.items()})\n",
    "\n",
    "redcalibrator = redcal.RedundantCalibrator(reds)\n",
    "sol_degen = redcalibrator.omnical(data, startp)\n",
    "sol = redcalibrator.remove_degen(sol_degen[1], degen_sol= true_gains)"
   ]
  },
  {
   "cell_type": "code",
   "execution_count": null,
   "metadata": {},
   "outputs": [],
   "source": [
    "chisq = 0\n",
    "for k in true_vis.keys():\n",
    "    subreds = [bls for bls in reds if k in bls][0]\n",
    "    for (i,j,pol) in subreds:\n",
    "        chisq += np.abs((sol[(i,'Jxx')]*np.conj(sol[(j,'Jxx')])*sol[k])- data[(i,j,pol)])**2\n",
    "chisq = chisq/((666-100+2)*sigma**2)\n",
    "print np.median(chisq[0]), np.mean(chisq[0])"
   ]
  },
  {
   "cell_type": "code",
   "execution_count": null,
   "metadata": {},
   "outputs": [],
   "source": [
    "# Subredcal\n",
    "redcalibrator_sub = redcal.RedundantCalibrator(subredbls)\n",
    "\n",
    "subsol_degen = {k:v for k,v in true_gains.items()}\n",
    "subsol_degen.update({k:v for k,v in true_vis.items() if k in subviskeys})\n",
    "\n",
    "subsol_degen = redcalibrator_sub.omnical(data, subsol_degen)\n",
    "subsol = redcalibrator_sub.remove_degen(subsol_degen[1], degen_sol= true_gains)"
   ]
  },
  {
   "cell_type": "code",
   "execution_count": null,
   "metadata": {},
   "outputs": [],
   "source": [
    "chisq_sub = 0\n",
    "for k in subviskeys:\n",
    "    subreds = [bls for bls in reds if k in bls][0]\n",
    "    for (i,j,pol) in subreds:\n",
    "        chisq_sub += np.abs((subsol[(i,'Jxx')]*np.conj(subsol[(j,'Jxx')])*subsol[k])- data[(i,j,pol)])**2\n",
    "        \n",
    "chisq_sub = chisq_sub/((90-40+2)*sigma**2)\n",
    "print np.median(chisq_sub[0]), np.mean(chisq_sub[0])"
   ]
  },
  {
   "cell_type": "code",
   "execution_count": null,
   "metadata": {},
   "outputs": [],
   "source": [
    "model_vis_sub = {}\n",
    "for k in true_vis.keys():\n",
    "    if k in subsol.keys():\n",
    "        model_vis_sub[k] = subsol[k]\n",
    "    else:\n",
    "        subreds = [bls for bls in reds if k in bls][0]\n",
    "        model_vis_sub[k] = optimize_red_vis(data, subsol, subreds)\n",
    "        \n",
    "chisq = 0\n",
    "for k in true_vis.keys():\n",
    "    subreds = [bls for bls in reds if k in bls][0]\n",
    "    for (i,j,pol) in subreds:\n",
    "        chisq += np.abs((subsol[(i,'Jxx')]*np.conj(subsol[(j,'Jxx')])*model_vis_sub[k])- data[(i,j,pol)])**2\n",
    "chisq = chisq/((666-100+2)*sigma**2)\n",
    "print np.median(chisq[0]), np.mean(chisq[0])\n",
    "print np.where(chisq_sub[0] > 5)"
   ]
  },
  {
   "cell_type": "markdown",
   "metadata": {},
   "source": [
    "# Gain Scatter, Low Noise, LogCal"
   ]
  },
  {
   "cell_type": "code",
   "execution_count": null,
   "metadata": {},
   "outputs": [],
   "source": [
    "# Redcal\n",
    "redcalibrator = redcal.RedundantCalibrator(reds)\n",
    "\n",
    "# startp = {k:v for k,v in true_gains.items()}\n",
    "# startp.update({k:v for k,v in true_vis.items()})\n",
    "startp = redcalibrator.logcal(data)\n",
    "\n",
    "sol_degen = redcalibrator.omnical(data, startp)\n",
    "sol = redcalibrator.remove_degen(sol_degen[1], degen_sol= true_gains)"
   ]
  },
  {
   "cell_type": "code",
   "execution_count": null,
   "metadata": {},
   "outputs": [],
   "source": [
    "chisq = 0\n",
    "for k in true_vis.keys():\n",
    "    subreds = [bls for bls in reds if k in bls][0]\n",
    "    for (i,j,pol) in subreds:\n",
    "        chisq += np.abs((sol[(i,'Jxx')]*np.conj(sol[(j,'Jxx')])*sol[k])- data[(i,j,pol)])**2\n",
    "chisq = chisq/((666-100+2)*sigma**2)\n",
    "print np.median(chisq[0]), np.mean(chisq[0])\n",
    "print np.where(chisq[0]>1.3)"
   ]
  },
  {
   "cell_type": "code",
   "execution_count": null,
   "metadata": {},
   "outputs": [],
   "source": [
    "# Subredcal\n",
    "redcalibrator_sub = redcal.RedundantCalibrator(subredbls)\n",
    "\n",
    "startp = redcalibrator_sub.logcal(data)\n",
    "\n",
    "subsol_degen = redcalibrator_sub.omnical(data, startp)\n",
    "subsol = redcalibrator_sub.remove_degen(subsol_degen[1], degen_sol= true_gains)"
   ]
  },
  {
   "cell_type": "code",
   "execution_count": null,
   "metadata": {},
   "outputs": [],
   "source": [
    "chisq_sub = 0\n",
    "for k in subviskeys:\n",
    "    subreds = [bls for bls in reds if k in bls][0]\n",
    "    for (i,j,pol) in subreds:\n",
    "        chisq_sub += np.abs((subsol[(i,'Jxx')]*np.conj(subsol[(j,'Jxx')])*subsol[k])- data[(i,j,pol)])**2\n",
    "        \n",
    "chisq_sub = chisq_sub/((90-40+2)*sigma**2)\n",
    "print np.median(chisq_sub[0]), np.mean(chisq_sub[0])\n",
    "print np.where(chisq_sub[0]>1.3)"
   ]
  },
  {
   "cell_type": "code",
   "execution_count": null,
   "metadata": {},
   "outputs": [],
   "source": [
    "model_vis_sub = {}\n",
    "for k in true_vis.keys():\n",
    "    if k in subsol.keys():\n",
    "        model_vis_sub[k] = subsol[k]\n",
    "    else:\n",
    "        subreds = [bls for bls in reds if k in bls][0]\n",
    "        model_vis_sub[k] = optimize_red_vis(data, subsol, subreds)\n",
    "        \n",
    "chisq = 0\n",
    "for k in true_vis.keys():\n",
    "    subreds = [bls for bls in reds if k in bls][0]\n",
    "    for (i,j,pol) in subreds:\n",
    "        chisq += np.abs((subsol[(i,'Jxx')]*np.conj(subsol[(j,'Jxx')])*model_vis_sub[k])- data[(i,j,pol)])**2\n",
    "chisq = chisq/((666-100+2)*sigma**2)\n",
    "print np.median(chisq[0]), np.mean(chisq[0])\n",
    "print np.where(chisq_sub[0] > 5)"
   ]
  },
  {
   "cell_type": "markdown",
   "metadata": {},
   "source": [
    "# Gain Scatter, Low Noise, Slightly offset Gains and Visibilities"
   ]
  },
  {
   "cell_type": "code",
   "execution_count": null,
   "metadata": {},
   "outputs": [],
   "source": [
    "# Redcal\n",
    "startp = {k: v+0.1*np.random.normal(size=np.shape(v)) for k,v in true_gains.items()}\n",
    "startp.update({k:v+1*np.random.normal(size=np.shape(v)) for k,v in true_vis.items()})\n",
    "\n",
    "redcalibrator = redcal.RedundantCalibrator(reds)\n",
    "sol_degen = redcalibrator.omnical(data, startp)\n",
    "sol = redcalibrator.remove_degen(sol_degen[1], degen_sol= true_gains)"
   ]
  },
  {
   "cell_type": "code",
   "execution_count": null,
   "metadata": {},
   "outputs": [],
   "source": [
    "chisq = 0\n",
    "for k in true_vis.keys():\n",
    "    subreds = [bls for bls in reds if k in bls][0]\n",
    "    for (i,j,pol) in subreds:\n",
    "        chisq += np.abs((sol[(i,'Jxx')]*np.conj(sol[(j,'Jxx')])*sol[k])- data[(i,j,pol)])**2\n",
    "chisq = chisq/((666-100+2)*sigma**2)\n",
    "print np.median(chisq[0]), np.mean(chisq[0])\n",
    "np.where(chisq[0]>1.3)"
   ]
  },
  {
   "cell_type": "code",
   "execution_count": null,
   "metadata": {},
   "outputs": [],
   "source": [
    "# Subredcal\n",
    "redcalibrator_sub = redcal.RedundantCalibrator(subredbls)\n",
    "\n",
    "subsol_degen = {k:v+0.03*np.random.normal(size=np.shape(v)) for k,v in true_gains.items()}\n",
    "subsol_degen.update({k:v+0.1*np.random.normal(size=np.shape(v)) for k,v in true_vis.items() if k in subviskeys})\n",
    "\n",
    "subsol_degen = redcalibrator_sub.omnical(data, subsol_degen)\n",
    "subsol = redcalibrator_sub.remove_degen(subsol_degen[1], degen_sol= true_gains)"
   ]
  },
  {
   "cell_type": "code",
   "execution_count": null,
   "metadata": {},
   "outputs": [],
   "source": [
    "chisq_sub = 0\n",
    "for k in subviskeys:\n",
    "    subreds = [bls for bls in reds if k in bls][0]\n",
    "    for (i,j,pol) in subreds:\n",
    "        chisq_sub += np.abs((subsol[(i,'Jxx')]*np.conj(subsol[(j,'Jxx')])*subsol[k])- data[(i,j,pol)])**2\n",
    "        \n",
    "chisq_sub = chisq_sub/((90-40+2)*sigma**2)\n",
    "print np.median(chisq_sub[0]), np.mean(chisq_sub[0])\n",
    "np.where(chisq_sub[0]>1.5)"
   ]
  },
  {
   "cell_type": "code",
   "execution_count": null,
   "metadata": {},
   "outputs": [],
   "source": [
    "model_vis_sub = {}\n",
    "for k in true_vis.keys():\n",
    "    if k in subsol.keys():\n",
    "        model_vis_sub[k] = subsol[k]\n",
    "    else:\n",
    "        subreds = [bls for bls in reds if k in bls][0]\n",
    "        model_vis_sub[k] = optimize_red_vis(data, subsol, subreds)\n",
    "        \n",
    "chisq = 0\n",
    "for k in true_vis.keys():\n",
    "    subreds = [bls for bls in reds if k in bls][0]\n",
    "    for (i,j,pol) in subreds:\n",
    "        chisq += np.abs((subsol[(i,'Jxx')]*np.conj(subsol[(j,'Jxx')])*model_vis_sub[k])- data[(i,j,pol)])**2\n",
    "chisq = chisq/((666-100+2)*sigma**2)\n",
    "print np.median(chisq[0]), np.mean(chisq[0])\n",
    "print np.where(chisq_sub[0] > 10)"
   ]
  },
  {
   "cell_type": "markdown",
   "metadata": {},
   "source": [
    "# Higher Noise, Gain Scatter, Slightly Offset Starting Point\n",
    "\n",
    "With higher noise in the measured visibilities, *logcal* can no longer give a good starting point for omnical. If hypothetically this starting point can be obtained through a few longer integrations at the beginning of the run it is useful to see if omnical still gives a solution.\n",
    "\n",
    "*Omnical* converges with a **good starting point**, upto an SNR of 0.5"
   ]
  },
  {
   "cell_type": "code",
   "execution_count": 78,
   "metadata": {},
   "outputs": [],
   "source": [
    "sigma = 2  # snr = 0.5\n",
    "\n",
    "data = {k:v+ sigma*redcal.noise((1, Nsim)) for k,v in true_data.items()}"
   ]
  },
  {
   "cell_type": "code",
   "execution_count": 81,
   "metadata": {},
   "outputs": [],
   "source": [
    "# Redcal\n",
    "redcalibrator = redcal.RedundantCalibrator(reds)\n",
    "\n",
    "#startp = redcalibrator.logcal(data)\n",
    "startp = {k: v+0.01*np.random.normal(size=np.shape(v)) for k,v in true_gains.items()}\n",
    "startp.update({k:v+sigma*np.random.normal(size=np.shape(v)) for k,v in true_vis.items()})\n",
    "\n",
    "sol_degen = redcalibrator.omnical(data, startp)\n",
    "sol = redcalibrator.remove_degen(sol_degen[1], degen_sol= true_gains)"
   ]
  },
  {
   "cell_type": "code",
   "execution_count": 82,
   "metadata": {},
   "outputs": [
    {
     "name": "stdout",
     "output_type": "stream",
     "text": [
      "0.9746671450180742 0.9802375748098894\n",
      "(array([], dtype=int64),)\n"
     ]
    }
   ],
   "source": [
    "chisq = 0\n",
    "for k in true_vis.keys():\n",
    "    subreds = [bls for bls in reds if k in bls][0]\n",
    "    for (i,j,pol) in subreds:\n",
    "        chisq += np.abs((sol[(i,'Jxx')]*np.conj(sol[(j,'Jxx')])*sol[k])- data[(i,j,pol)])**2\n",
    "chisq = chisq/((666-100+2)*sigma**2)\n",
    "print np.median(chisq[0]), np.mean(chisq[0])\n",
    "print np.where(chisq[0] > 1.5)"
   ]
  },
  {
   "cell_type": "code",
   "execution_count": 54,
   "metadata": {},
   "outputs": [],
   "source": [
    "sigma = 0.5  # snr=2, snr=1.25\n",
    "\n",
    "data = {k:v+ sigma*redcal.noise((1, Nsim)) for k,v in true_data.items()}"
   ]
  },
  {
   "cell_type": "code",
   "execution_count": 55,
   "metadata": {},
   "outputs": [],
   "source": [
    "# Subredcal\n",
    "redcalibrator_sub = redcal.RedundantCalibrator(subredbls)\n",
    "\n",
    "subsol_degen = {k:v+0.01*np.random.normal(size=np.shape(v)) for k,v in true_gains.items()}\n",
    "subsol_degen.update({k:v+0.1*np.random.normal(size=np.shape(v)) for k,v in true_vis.items() if k in subviskeys})\n",
    "\n",
    "subsol_degen = redcalibrator_sub.omnical(data, subsol_degen)\n",
    "subsol = redcalibrator_sub.remove_degen(subsol_degen[1], degen_sol= true_gains)"
   ]
  },
  {
   "cell_type": "code",
   "execution_count": 56,
   "metadata": {},
   "outputs": [
    {
     "name": "stdout",
     "output_type": "stream",
     "text": [
      "0.9773286253719966 0.9785506922777871\n",
      "(array([], dtype=int64),)\n"
     ]
    }
   ],
   "source": [
    "chisq_sub = 0\n",
    "for k in subviskeys:\n",
    "    subreds = [bls for bls in reds if k in bls][0]\n",
    "    for (i,j,pol) in subreds:\n",
    "        chisq_sub += np.abs((subsol[(i,'Jxx')]*np.conj(subsol[(j,'Jxx')])*subsol[k])- data[(i,j,pol)])**2\n",
    "        \n",
    "chisq_sub = chisq_sub/((90-40+2)*sigma**2)\n",
    "print np.median(chisq_sub[0]), np.mean(chisq_sub[0])\n",
    "print np.where(chisq_sub[0] > 1.5)"
   ]
  },
  {
   "cell_type": "code",
   "execution_count": 57,
   "metadata": {},
   "outputs": [
    {
     "name": "stdout",
     "output_type": "stream",
     "text": [
      "1.6360362288650432 1.7906602813856891\n",
      "(array([], dtype=int64),)\n"
     ]
    }
   ],
   "source": [
    "model_vis_sub = {}\n",
    "for k in true_vis.keys():\n",
    "    if k in subsol.keys():\n",
    "        model_vis_sub[k] = subsol[k]\n",
    "    else:\n",
    "        subreds = [bls for bls in reds if k in bls][0]\n",
    "        model_vis_sub[k] = optimize_red_vis(data, subsol, subreds)\n",
    "        \n",
    "chisq = 0\n",
    "for k in true_vis.keys():\n",
    "    subreds = [bls for bls in reds if k in bls][0]\n",
    "    for (i,j,pol) in subreds:\n",
    "        chisq += np.abs((subsol[(i,'Jxx')]*np.conj(subsol[(j,'Jxx')])*model_vis_sub[k])- data[(i,j,pol)])**2\n",
    "chisq = chisq/((666-100+2)*sigma**2)\n",
    "print np.median(chisq[0]), np.mean(chisq[0])\n",
    "print np.where(chisq_sub[0] > 10)"
   ]
  },
  {
   "cell_type": "markdown",
   "metadata": {},
   "source": [
    "## Higher Noise on RedCal \n",
    "## Lower Noise on SubRedCal"
   ]
  },
  {
   "cell_type": "code",
   "execution_count": 71,
   "metadata": {},
   "outputs": [
    {
     "name": "stdout",
     "output_type": "stream",
     "text": [
      "0.2940858488375231\n",
      "1.0881176406988355\n"
     ]
    }
   ],
   "source": [
    "print 0.8 *np.sqrt(90./666)\n",
    "print 0.4 *np.sqrt(666/90.)"
   ]
  },
  {
   "cell_type": "code",
   "execution_count": 72,
   "metadata": {},
   "outputs": [],
   "source": [
    "sigma = 1.10\n",
    "data = {k:v+ sigma*redcal.noise((1, Nsim)) for k,v in true_data.items()}\n",
    "\n",
    "# Redcal\n",
    "redcalibrator = redcal.RedundantCalibrator(reds)\n",
    "\n",
    "# startp = {k: v+0.01*np.random.normal(size=np.shape(v)) for k,v in true_gains.items()}\n",
    "# startp.update({k:v+np.random.normal(size=np.shape(v)) for k,v in true_vis.items()})\n",
    "startp = redcalibrator.logcal(data)\n",
    "\n",
    "sol_degen = redcalibrator.omnical(data, startp)\n",
    "sol = redcalibrator.remove_degen(sol_degen[1], degen_sol= true_gains)"
   ]
  },
  {
   "cell_type": "code",
   "execution_count": 73,
   "metadata": {},
   "outputs": [
    {
     "name": "stdout",
     "output_type": "stream",
     "text": [
      "0.992076703878245 0.9927880985192596\n",
      "(array([], dtype=int64),)\n"
     ]
    }
   ],
   "source": [
    "chisq = 0\n",
    "for k in true_vis.keys():\n",
    "    subreds = [bls for bls in reds if k in bls][0]\n",
    "    for (i,j,pol) in subreds:\n",
    "        chisq += np.abs((sol[(i,'Jxx')]*np.conj(sol[(j,'Jxx')])*sol[k])- data[(i,j,pol)])**2\n",
    "chisq = chisq/((666-100+2)*sigma**2)\n",
    "print np.median(chisq[0]), np.mean(chisq[0])\n",
    "print np.where(chisq[0] > 1.5)"
   ]
  },
  {
   "cell_type": "code",
   "execution_count": 75,
   "metadata": {},
   "outputs": [],
   "source": [
    "sigma = 0.4\n",
    "data = {k:v+ sigma*redcal.noise((1, Nsim)) for k,v in true_data.items()}\n",
    "\n",
    "# Subredcal\n",
    "redcalibrator_sub = redcal.RedundantCalibrator(subredbls)\n",
    "\n",
    "# subsol_degen = {k:v+0.01*np.random.normal(size=np.shape(v)) for k,v in true_gains.items()}\n",
    "# subsol_degen.update({k:v+0.1*np.random.normal(size=np.shape(v)) for k,v in true_vis.items() if k in subviskeys})\n",
    "subsol_degen = redcalibrator_sub.logcal(data)\n",
    "\n",
    "subsol_degen = redcalibrator_sub.omnical(data, subsol_degen)\n",
    "subsol = redcalibrator_sub.remove_degen(subsol_degen[1], degen_sol= true_gains)"
   ]
  },
  {
   "cell_type": "code",
   "execution_count": 76,
   "metadata": {},
   "outputs": [
    {
     "name": "stdout",
     "output_type": "stream",
     "text": [
      "0.9750156250368489 0.98300886017823\n",
      "(array([], dtype=int64),)\n"
     ]
    }
   ],
   "source": [
    "chisq_sub = 0\n",
    "for k in subviskeys:\n",
    "    subreds = [bls for bls in reds if k in bls][0]\n",
    "    for (i,j,pol) in subreds:\n",
    "        chisq_sub += np.abs((subsol[(i,'Jxx')]*np.conj(subsol[(j,'Jxx')])*subsol[k])- data[(i,j,pol)])**2\n",
    "        \n",
    "chisq_sub = chisq_sub/((90-40+2)*sigma**2)\n",
    "print np.median(chisq_sub[0]), np.mean(chisq_sub[0])\n",
    "print np.where(chisq_sub[0] > 1.5)"
   ]
  },
  {
   "cell_type": "code",
   "execution_count": 77,
   "metadata": {},
   "outputs": [
    {
     "name": "stdout",
     "output_type": "stream",
     "text": [
      "1.7054049095963446 1.9319290282613462\n",
      "(array([], dtype=int64),)\n"
     ]
    }
   ],
   "source": [
    "model_vis_sub = {}\n",
    "for k in true_vis.keys():\n",
    "    if k in subsol.keys():\n",
    "        model_vis_sub[k] = subsol[k]\n",
    "    else:\n",
    "        subreds = [bls for bls in reds if k in bls][0]\n",
    "        model_vis_sub[k] = optimize_red_vis(data, subsol, subreds)\n",
    "        \n",
    "chisq = 0\n",
    "for k in true_vis.keys():\n",
    "    subreds = [bls for bls in reds if k in bls][0]\n",
    "    for (i,j,pol) in subreds:\n",
    "        chisq += np.abs((subsol[(i,'Jxx')]*np.conj(subsol[(j,'Jxx')])*model_vis_sub[k])- data[(i,j,pol)])**2\n",
    "chisq = chisq/((666-100+2)*sigma**2)\n",
    "print np.median(chisq[0]), np.mean(chisq[0])\n",
    "print np.where(chisq_sub[0] > 10)"
   ]
  }
 ],
 "metadata": {
  "kernelspec": {
   "display_name": "Python 2",
   "language": "python",
   "name": "python2"
  },
  "language_info": {
   "codemirror_mode": {
    "name": "ipython",
    "version": 2
   },
   "file_extension": ".py",
   "mimetype": "text/x-python",
   "name": "python",
   "nbconvert_exporter": "python",
   "pygments_lexer": "ipython2",
   "version": "2.7.15"
  }
 },
 "nbformat": 4,
 "nbformat_minor": 2
}
