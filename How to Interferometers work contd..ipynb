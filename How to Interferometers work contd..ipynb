{
 "cells": [
  {
   "cell_type": "code",
   "execution_count": 1,
   "metadata": {},
   "outputs": [],
   "source": [
    "%matplotlib notebook\n",
    "\n",
    "import numpy as np\n",
    "import matplotlib\n",
    "import matplotlib.pyplot as plt\n",
    "from matplotlib.colors import LogNorm"
   ]
  },
  {
   "cell_type": "markdown",
   "metadata": {},
   "source": [
    "## Recap\n",
    "\n",
    "                                              FFT\n",
    "                           Aperture Plane  --------->  Electric Field Beam\n",
    "                              \n",
    "                                 |                            |\n",
    "                                 |                            |\n",
    "            complex convolution  |                            |  Square\n",
    "                                 |                            |\n",
    "                                 |                            |\n",
    "                                 V                            V\n",
    "                              \n",
    "                              UV Plane   <----------  Point Spread Function\n",
    "                                              iFFT\n",
    "\n",
    "\n",
    "There are four fundamental planes that you play around with in interferometry. The Aperture Plane is equivalent to the array layout, this is how you choose to place your dishes on the ground. The Electric Field Beam exists because radio telescopes are capable of sampling the electric field, not just measuring the intensity of light (like optical telescopes). The beam that convolves the electric field sky (say if you're talking about polarization and need to work with electric fields) is the Electric Field Beam.\n",
    "\n",
    "The conventional \"beam\" that you convolve the sky signal (in intensity/power) with is the Point Spread Function or *Synthesized Beam* for interferometers. The UV plane, which is related by a Fourier Transform to the PSF, shows how different modes on the sky are sampled. "
   ]
  },
  {
   "cell_type": "code",
   "execution_count": null,
   "metadata": {},
   "outputs": [],
   "source": []
  }
 ],
 "metadata": {
  "kernelspec": {
   "display_name": "Python 2",
   "language": "python",
   "name": "python2"
  },
  "language_info": {
   "codemirror_mode": {
    "name": "ipython",
    "version": 2
   },
   "file_extension": ".py",
   "mimetype": "text/x-python",
   "name": "python",
   "nbconvert_exporter": "python",
   "pygments_lexer": "ipython2",
   "version": "2.7.15"
  }
 },
 "nbformat": 4,
 "nbformat_minor": 2
}
