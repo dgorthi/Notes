{
 "cells": [
  {
   "cell_type": "markdown",
   "metadata": {},
   "source": [
    "# UV plane of interferometry\n",
    "\n",
    "The UV plane is a convolution of the aperature of the interferometer. The aperature plane is physically the dishes, and their combination."
   ]
  },
  {
   "cell_type": "code",
   "execution_count": 1,
   "metadata": {
    "collapsed": true
   },
   "outputs": [],
   "source": [
    "%matplotlib inline\n",
    "import numpy as np\n",
    "import matplotlib.pyplot as plt\n",
    "plt.rcParams['figure.figsize'] = (3, 2)"
   ]
  },
  {
   "cell_type": "markdown",
   "metadata": {},
   "source": [
    "## Aperature of an array with redundant baselines\n",
    "\n",
    "Imagine an array with 12 elements where 3 elements are redundant in groups of 4."
   ]
  },
  {
   "cell_type": "code",
   "execution_count": 2,
   "metadata": {
    "collapsed": false
   },
   "outputs": [
    {
     "data": {
      "text/plain": [
       "(-1, 4)"
      ]
     },
     "execution_count": 2,
     "metadata": {},
     "output_type": "execute_result"
    },
    {
     "data": {
      "image/png": "[encoded data removed]",
      "text/plain": [
       "<matplotlib.figure.Figure at 0x7fb9a82267d0>"
      ]
     },
     "metadata": {},
     "output_type": "display_data"
    }
   ],
   "source": [
    "x,y = np.linspace(0,8,num=9,dtype=int),np.linspace(0,3,num=4,dtype=int)\n",
    "ants = [[1,1,1,0,0,0,1,1,1],list(np.zeros(9,dtype=int)),list(np.zeros(9,dtype=int)),[1,1,1,0,0,0,1,1,1]]\n",
    "\n",
    "fig,ax = plt.subplots(1,1)\n",
    "for l in x:\n",
    "    for m in y:\n",
    "        if ants[m][l]:\n",
    "            ax.plot(l,m,'k',marker='x')\n",
    "ax.set_xlim([-1,9])\n",
    "ax.set_ylim([-1,4])"
   ]
  },
  {
   "cell_type": "code",
   "execution_count": null,
   "metadata": {
    "collapsed": true
   },
   "outputs": [],
   "source": [
    "np.convolve"
   ]
  }
 ],
 "metadata": {
  "anaconda-cloud": {},
  "kernelspec": {
   "display_name": "Python [conda env:py2.7]",
   "language": "python",
   "name": "conda-env-py2.7-py"
  },
  "language_info": {
   "codemirror_mode": {
    "name": "ipython",
    "version": 2
   },
   "file_extension": ".py",
   "mimetype": "text/x-python",
   "name": "python",
   "nbconvert_exporter": "python",
   "pygments_lexer": "ipython2",
   "version": "2.7.12"
  }
 },
 "nbformat": 4,
 "nbformat_minor": 1
}
