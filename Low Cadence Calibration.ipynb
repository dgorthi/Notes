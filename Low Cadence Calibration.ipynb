{
 "cells": [
  {
   "cell_type": "code",
   "execution_count": 1,
   "metadata": {},
   "outputs": [],
   "source": [
    "%matplotlib notebook\n",
    "import matplotlib.pyplot as plt\n",
    "import numpy as np\n",
    "from hera_cal import redcal\n",
    "import linsolve"
   ]
  },
  {
   "cell_type": "code",
   "execution_count": 2,
   "metadata": {},
   "outputs": [],
   "source": [
    "Nants = 37\n",
    "\n",
    "ants = np.loadtxt('antenna_positions_%d.dat'%Nants)\n",
    "antpos = {k:v for k,v in zip(range(Nants),ants)}\n",
    "reds = redcal.get_reds(antpos)"
   ]
  },
  {
   "cell_type": "code",
   "execution_count": 3,
   "metadata": {},
   "outputs": [],
   "source": [
    "def calibrate(data,gains):\n",
    "    calib_data = {}\n",
    "    for (i, j, pol) in data.keys():\n",
    "        calib_data[(i, j, pol)] = data[(i, j, pol)]/(gains[(i,'Jxx')] * np.conj(gains[(j,'Jxx')]))\n",
    "    return calib_data\n",
    "\n",
    "def average_red_vis(data, gains, subreds):\n",
    "    sub_bl_visib = calibrate(data, gains)\n",
    "    vis = 0\n",
    "    for subbl in subreds:\n",
    "        vis += sub_bl_visib[subbl]/len(subreds)\n",
    "    return vis\n",
    "\n",
    "def optimize_red_vis(data, gains, subreds):\n",
    "    eqs = {}; const = {}\n",
    "    for (i,j,pol) in subreds:\n",
    "        eqs['g_%d * g_%d_ * V'%(i,j)] = data[(i,j,pol)]\n",
    "\n",
    "    for i in range(37):\n",
    "        const['g_%d'%(i)] = gains[(i,'Jxx')]    \n",
    "\n",
    "    lps = linsolve.LinearSolver(eqs, **const)\n",
    "    X = lps.solve()\n",
    "    return X['V']"
   ]
  },
  {
   "cell_type": "markdown",
   "metadata": {},
   "source": [
    "1. Case1  all: snr > 1\n",
    "\n",
    "2. Case2  all: snr < 1\n",
    "\n",
    "3. snr ~ 1 higher integration and snr < 1 lower integration \n",
    "\n",
    "90 t_0 = 666 t_1\n",
    "\n",
    "sigma = N/np.sqrt(t)  \n",
    "\n",
    "Y = Vtrue + sigma\n",
    "\n",
    "snr = Vtrue/sigma"
   ]
  },
  {
   "cell_type": "code",
   "execution_count": 4,
   "metadata": {},
   "outputs": [],
   "source": [
    "Nsim = 64\n",
    "\n",
    "# Simulate gains and visibilities\n",
    "true_gains, true_vis, true_data = redcal.sim_red_data(reds, shape=(1, Nsim), gain_scatter=0.1)"
   ]
  },
  {
   "cell_type": "code",
   "execution_count": 5,
   "metadata": {},
   "outputs": [],
   "source": [
    "subredbls = reds[0:3]\n",
    "subvis_keys = [(0,1,'xx'),(0,4,'xx'),(0,5,'xx')]"
   ]
  },
  {
   "cell_type": "markdown",
   "metadata": {},
   "source": [
    "# SNR > 1"
   ]
  },
  {
   "cell_type": "code",
   "execution_count": 6,
   "metadata": {},
   "outputs": [],
   "source": [
    "sigma_sub = 0.1\n",
    "sigma_low = 0.1 * np.sqrt(666/90.)\n",
    "\n",
    "data_sub = {k:v+ sigma_sub*redcal.noise((1, Nsim)) for k,v in true_data.items()}\n",
    "data_low = {k:v+ sigma_low*redcal.noise((1, Nsim)) for k,v in true_data.items()}\n",
    "    \n",
    "redcalibrator = redcal.RedundantCalibrator(reds)\n",
    "sol_degen = {k:np.ones_like(v) for k,v in true_gains.items()}\n",
    "sol_degen.update({k:np.ones_like(v) for k,v in true_vis.items()})\n",
    "\n",
    "sol_degen = redcalibrator.omnical(data_low, sol_degen, gain= 0.4, maxiter= 1000, check_after=10)\n",
    "sol = redcalibrator.remove_degen(sol_degen[1], degen_sol= true_gains)\n",
    "\n",
    "redcalibrator_sub = redcal.RedundantCalibrator(subredbls)\n",
    "subsol_degen = {k:np.ones_like(v) for k,v in true_gains.items()}\n",
    "subsol_degen.update({k:np.ones_like(v) for k,v in true_vis.items() if k in subvis_keys})\n",
    "\n",
    "subsol_degen = redcalibrator_sub.omnical(data_sub, subsol_degen, gain= 0.4, maxiter= 1000, check_after=10)\n",
    "subsol = redcalibrator_sub.remove_degen(subsol_degen[1], degen_sol= true_gains)"
   ]
  },
  {
   "cell_type": "code",
   "execution_count": null,
   "metadata": {},
   "outputs": [],
   "source": [
    "# for k,v in data_sub.items():\n",
    "#     print np.any(np.isnan(v)),\n",
    "#     print np.any(v == 0)"
   ]
  },
  {
   "cell_type": "code",
   "execution_count": 7,
   "metadata": {},
   "outputs": [
    {
     "data": {
      "text/plain": [
       "{'chisq': array([[39.83866988, 41.48363244, 40.17138676, 43.55817956, 41.91269344,\n",
       "         42.81220762, 40.08027408, 41.13879643, 42.52848291, 43.3114115 ,\n",
       "         41.26454204, 42.30063341, 42.66532983, 37.73351717, 41.67572223,\n",
       "         42.70157696, 43.9649879 , 38.79614594, 42.45697056, 39.7078803 ,\n",
       "         43.49065421, 40.86094803, 42.81804536, 42.19027153, 40.30028588,\n",
       "         40.9376055 , 42.00852335, 40.95847324, 42.45484669, 41.10590442,\n",
       "         42.13801333, 40.72683728, 42.63606509, 39.39697384, 42.11533002,\n",
       "         43.32092608, 41.22667404, 42.07870119, 40.34168312, 42.64789621,\n",
       "         44.49647471, 43.40975257, 39.18135641, 41.69041018, 43.08971782,\n",
       "         42.92566186, 40.88125407, 42.57382379, 40.32902062, 40.12463441,\n",
       "         42.41831423, 42.46022877, 41.64984913, 38.54618435, 40.90847366,\n",
       "         40.23044544, 42.52935639, 44.46749652, 42.46029809, 44.08197481,\n",
       "         42.75854829, 42.7853461 , 41.29052859, 41.64358685]]),\n",
       " 'conv_crit': array([[7.36352764e-10, 5.97719395e-10, 7.56101764e-10, 1.85678295e-09,\n",
       "         2.52349707e-09, 1.14640796e-09, 1.70271761e-09, 1.99828229e-09,\n",
       "         3.06313734e-10, 2.14002593e-09, 9.37218826e-10, 2.95531212e-09,\n",
       "         6.74474949e-10, 1.12600024e-09, 5.60698193e-10, 8.97266788e-10,\n",
       "         1.53961674e-09, 1.51928491e-09, 2.02108306e-09, 2.03878928e-09,\n",
       "         1.82514018e-09, 2.36041965e-09, 2.51715883e-09, 1.20894364e-09,\n",
       "         8.23235164e-10, 9.42294401e-10, 1.15779980e-09, 1.13914487e-09,\n",
       "         2.17732566e-09, 1.12694864e-09, 2.21981744e-09, 1.33404048e-09,\n",
       "         1.09313278e-09, 1.11370304e-09, 1.56177498e-09, 9.93036206e-10,\n",
       "         1.81829506e-09, 1.56997357e-09, 2.56556927e-09, 1.82863231e-09,\n",
       "         1.51384021e-09, 1.72457506e-09, 6.59618138e-10, 9.57777694e-10,\n",
       "         8.09037303e-10, 2.91874839e-09, 2.67195093e-09, 4.59589880e-10,\n",
       "         5.60390760e-10, 2.17413469e-09, 9.81799908e-10, 7.38971019e-10,\n",
       "         1.49744227e-09, 5.44432447e-10, 1.23761165e-09, 3.02201573e-09,\n",
       "         2.01989315e-09, 4.91925480e-10, 6.68555848e-10, 1.58203023e-09,\n",
       "         1.74102424e-09, 1.61354824e-09, 1.03385169e-09, 3.28848097e-10]]),\n",
       " 'iter': array([[148, 128, 132, 156, 128, 120, 188, 140, 140, 176, 108, 176, 208,\n",
       "         132, 152, 100, 144, 124, 124, 116, 148, 184, 132, 120, 132, 156,\n",
       "         120, 116, 156, 164, 188, 168, 164, 132, 136, 148, 116, 108, 156,\n",
       "         144, 108, 172, 108, 152, 164, 160, 144, 168, 216, 140, 140, 112,\n",
       "         156, 124, 112, 160, 184, 168, 140, 188, 108, 124, 156, 144]])}"
      ]
     },
     "execution_count": 7,
     "metadata": {},
     "output_type": "execute_result"
    }
   ],
   "source": [
    "#sol_degen\n",
    "# print \"No \\t chisq \\t conv_crit\\t iter\"\n",
    "# print \"-----------------------------------------\"\n",
    "# for n in range(Nsim):\n",
    "#     print \"%2d\\t %4.2f \\t %1.4e\\t %1.4e\"%(n, sol_degen[0]['chisq'][0,n], sol_degen[0]['conv_crit'][0,n], \n",
    "#                                           sol_degen[0]['iter'][0,n])\n",
    "sol_degen[0]"
   ]
  },
  {
   "cell_type": "code",
   "execution_count": 8,
   "metadata": {
    "scrolled": false
   },
   "outputs": [
    {
     "data": {
      "text/plain": [
       "{'chisq': array([[0.57441293, 0.52916691, 0.58256837, 0.61501747, 0.43383035,\n",
       "         0.52916003, 0.50071744, 0.48715586, 0.47441882, 0.5111112 ,\n",
       "         0.52205899, 0.50557901, 0.51114355, 0.64848912, 0.58348518,\n",
       "         0.41210892, 0.46874218, 0.57533792, 0.40880863, 0.51594231,\n",
       "         0.45558902, 0.52291263, 0.47857584, 0.49188519, 0.5120296 ,\n",
       "         0.46377868, 0.46019303, 0.36065572, 0.56930924, 0.44677126,\n",
       "         0.44784549, 0.45998646, 0.6223468 , 0.31185797, 0.7350947 ,\n",
       "         0.47762456, 0.5863073 , 0.49968336, 0.59238997, 0.5330418 ,\n",
       "         0.47387681, 0.57615378, 0.48903128, 0.42244916, 0.5744694 ,\n",
       "         0.63415333, 0.544606  , 0.45889868, 0.53774316, 0.52581935,\n",
       "         0.37155669, 0.56612203, 0.42858972, 0.45793175, 0.42891522,\n",
       "         0.6068641 , 0.52484935, 0.44131961, 0.52607992, 0.51266953,\n",
       "         0.536747  , 0.53178809, 0.56090886, 0.48558264]]),\n",
       " 'conv_crit': array([[1.62657597e-10, 1.80565178e-10, 3.10929073e-10, 1.56724597e-06,\n",
       "         7.30774906e-11, 2.48934828e-10, 5.06432186e-10, 1.09159713e-10,\n",
       "         1.20577467e-10, 1.35247446e-09, 1.57982352e-10, 1.82266377e-10,\n",
       "         4.17180627e-10, 2.22672155e-10, 2.61324555e-10, 1.42684919e-10,\n",
       "         2.82716940e-06, 1.07742301e-10, 1.00260681e-10, 1.91697021e-10,\n",
       "         3.79464976e-05, 3.01736198e-10, 3.07166664e-10, 1.32659966e-10,\n",
       "         2.17389579e-10, 1.95927034e-10, 1.90478566e-10, 1.88049996e-10,\n",
       "         2.64970616e-10, 1.57742187e-10, 2.86226599e-10, 2.64385381e-10,\n",
       "         1.93448909e-10, 2.69775904e-10, 2.67615214e-10, 9.18172286e-11,\n",
       "         3.20650974e-10, 1.75209380e-10, 2.39921489e-08, 4.05249110e-10,\n",
       "         1.66742693e-10, 2.27811263e-10, 1.99742004e-10, 4.77257744e-06,\n",
       "         1.55842099e-10, 1.78079151e-10, 2.49485709e-10, 2.47658555e-10,\n",
       "         2.74621031e-10, 3.13119224e-10, 1.08797577e-10, 1.43962492e-10,\n",
       "         2.32851740e-10, 7.43565790e-11, 7.03559022e-11, 3.21998635e-10,\n",
       "         1.31720824e-10, 1.91654980e-10, 1.45135430e-10, 7.40266215e-10,\n",
       "         1.51340940e-10, 2.33848432e-10, 3.65802481e-10, 3.48743242e-10]]),\n",
       " 'iter': array([[ 188,  496,  176, 1000,  172,  292,  464,  180,  296, 1000,  220,\n",
       "          760,  604,  316,  280,  260, 1000,  260,  412,  188, 1000,  520,\n",
       "          956,  224,  160,  344,  144,  176,  320,  228,  808,  496,  364,\n",
       "          416,  772,  324,  260,  176, 1000,  212,  624,  176,  928, 1000,\n",
       "          248,  200,  304,  188,  192,  168,  192,  148,  548,  236,  156,\n",
       "          212,  156,  264,  536,  412,  288,  152,  232,  460]])}"
      ]
     },
     "execution_count": 8,
     "metadata": {},
     "output_type": "execute_result"
    }
   ],
   "source": [
    "# subsol_degen\n",
    "# print \"No \\t chisq \\t conv_crit\\t iter\"\n",
    "# print \"-----------------------------------------\"\n",
    "# for n in range(Nsim):\n",
    "#     print \"%2d\\t %4.2f \\t %1.2e\\t %1.2e\"%(n, subsol_degen[0]['chisq'][0,n], subsol_degen[0]['conv_crit'][0,n], \n",
    "#                                           subsol_degen[0]['iter'][0,n])\n",
    "subsol_degen[0]"
   ]
  },
  {
   "cell_type": "code",
   "execution_count": null,
   "metadata": {},
   "outputs": [],
   "source": [
    "# Check chisq of just the shortest baselines\n",
    "chisq = 0\n",
    "for k in subvis_keys:\n",
    "    subreds = [bls for bls in reds if k in bls][0]\n",
    "    for (i,j,pol) in subreds:\n",
    "        chisq += np.abs((subsol[(i,'Jxx')]*np.conj(subsol[(j,'Jxx')])*subsol[k])- data_sub[(i,j,pol)])**2\n",
    "        \n",
    "chisq = chisq/((90-40+2)*sigma_sub**2)\n",
    "print np.mean(chisq[0])"
   ]
  },
  {
   "cell_type": "code",
   "execution_count": null,
   "metadata": {},
   "outputs": [],
   "source": [
    "model_vis_sub = {}\n",
    "for k in true_vis.keys():\n",
    "    if k in subsol.keys():\n",
    "        model_vis_sub[k] = subsol[k]\n",
    "    else:\n",
    "        subreds = [bls for bls in reds if k in bls][0]\n",
    "        model_vis_sub[k] = optimize_red_vis(data_sub, subsol, subreds)"
   ]
  },
  {
   "cell_type": "code",
   "execution_count": null,
   "metadata": {},
   "outputs": [],
   "source": [
    "chisq_sub = 0; chisq_low = 0; chisq_sub_3bl = 0\n",
    "\n",
    "for k in true_vis.keys():\n",
    "    subreds = [bls for bls in reds if k in bls][0] \n",
    "    for (i,j,pol) in subreds:\n",
    "        chisq_sub += np.abs((subsol[i,'Jxx']*np.conj(subsol[j,'Jxx'])*model_vis_sub[k] -data_sub[(i,j,pol)]))**2\n",
    "        chisq_low += np.abs((sol[i,'Jxx']*np.conj(sol[j,'Jxx'])*sol[k] -data_low[(i,j,pol)]))**2\n",
    "        if k in subvis_keys:\n",
    "            chisq_sub_3bl += np.abs((subsol[i,'Jxx']*np.conj(subsol[j,'Jxx'])*subsol[k] -data_sub[(i,j,pol)]))**2\n",
    "        \n",
    "chisq_sub = chisq_sub/((666-100+2)*sigma_sub**2)\n",
    "chisq_low = chisq_low/((666-100+2)*sigma_low**2)\n",
    "\n",
    "print \"SUBREDCAL: mean: \", np.mean(chisq_sub[0]), \" median: \", np.median(chisq_sub[0])\n",
    "print \"LOWCADCAL: mean: \", np.mean(chisq_low[0]), \" median: \", np.median(chisq_low[0])\n",
    "\n",
    "# Subredcal chi^2 for the baselines included only\n",
    "print \"subredcal: only included baselines: \", np.mean(chisq_sub_3bl[0])/((90-40+2)*sigma_sub**2)"
   ]
  },
  {
   "cell_type": "markdown",
   "metadata": {},
   "source": [
    "# SNR < 1"
   ]
  },
  {
   "cell_type": "code",
   "execution_count": null,
   "metadata": {},
   "outputs": [],
   "source": [
    "sigma_sub = 2\n",
    "sigma_low = sigma_sub * np.sqrt(666/90.)\n",
    "\n",
    "data_sub = {k:v+ sigma_sub*redcal.noise((1, Nsim)) for k,v in true_data.items()}\n",
    "data_low = {k:v+ sigma_low*redcal.noise((1, Nsim)) for k,v in true_data.items()}\n",
    "    \n",
    "## Can't guarantee that in low SNR logcal is within a phase wrap\n",
    "## lincal -> omnical\n",
    "## const to LinProductSolver -- if you give it equations it assumes it can change those values\n",
    "\n",
    "    \n",
    "redcalibrator = redcal.RedundantCalibrator(reds)\n",
    "#sol_degen = redcalibrator.logcal(data_low)\n",
    "sol_degen = {k:np.ones_like(v) for k,v in true_gains.items()}\n",
    "sol_degen.update({k:np.ones_like(v) for k,v in true_vis.items()})\n",
    "\n",
    "sol_degen = redcalibrator.omnical(data_low, sol_degen, gain= 0.4, maxiter= 5000, \n",
    "                                  check_after= 50)#, conv_crit= 1e-5)\n",
    "sol = redcalibrator.remove_degen(sol_degen[1], degen_sol= true_gains)\n",
    "\n",
    "redcalibrator_sub = redcal.RedundantCalibrator(subredbls)\n",
    "#subsol_degen = redcalibrator_sub.logcal(data_sub)\n",
    "subsol_degen = {k:np.ones_like(v) for k,v in true_gains.items()}\n",
    "subsol_degen.update({k:np.ones_like(v) for k,v in true_vis.items() if k in subvis_keys})\n",
    "subsol_degen = redcalibrator_sub.omnical(data_sub, subsol_degen, gain= 0.4, maxiter= 5000, \n",
    "                                         check_after= 50)#, conv_crit= 1e-5)\n",
    "subsol = redcalibrator_sub.remove_degen(subsol_degen[1], degen_sol= true_gains)"
   ]
  },
  {
   "cell_type": "code",
   "execution_count": null,
   "metadata": {},
   "outputs": [],
   "source": [
    "#sol_degen\n",
    "print \"No \\t chisq \\t conv_crit\\t iter\"\n",
    "print \"-----------------------------------------\"\n",
    "for n in range(Nsim):\n",
    "    print \"%2d\\t %4.2f \\t %1.2e\\t %1.2e\"%(n, sol_degen[0]['chisq'][0,n], sol_degen[0]['conv_crit'][0,n], \n",
    "                                          sol_degen[0]['iter'][0,n])"
   ]
  },
  {
   "cell_type": "code",
   "execution_count": null,
   "metadata": {},
   "outputs": [],
   "source": [
    "# subsol_degen\n",
    "print \"No \\t chisq \\t conv_crit\\t iter\"\n",
    "print \"-----------------------------------------\"\n",
    "for n in range(Nsim):\n",
    "    print \"%2d\\t %4.2f \\t %1.2e\\t %1.2e\"%(n, subsol_degen[0]['chisq'][0,n], subsol_degen[0]['conv_crit'][0,n], \n",
    "                                          subsol_degen[0]['iter'][0,n])"
   ]
  },
  {
   "cell_type": "code",
   "execution_count": null,
   "metadata": {},
   "outputs": [],
   "source": [
    "# Check chisq of just the shortest baselines\n",
    "chisq = 0\n",
    "for k in subvis_keys:\n",
    "    subreds = [bls for bls in reds if k in bls][0]\n",
    "    for (i,j,pol) in subreds:\n",
    "        chisq += np.abs((subsol[(i,'Jxx')]*np.conj(subsol[(j,'Jxx')])*subsol[k])- data_sub[(i,j,pol)])**2\n",
    "        \n",
    "chisq = chisq/((90-40+2)*sigma_sub**2)\n",
    "print np.mean(chisq[0])"
   ]
  },
  {
   "cell_type": "code",
   "execution_count": null,
   "metadata": {},
   "outputs": [],
   "source": [
    "model_vis_sub = {}\n",
    "for k in true_vis.keys():\n",
    "    if k in subsol.keys():\n",
    "        model_vis_sub[k] = subsol[k]\n",
    "    else:\n",
    "        subreds = [bls for bls in reds if k in bls][0]\n",
    "        model_vis_sub[k] = optimize_red_vis(data_sub, subsol, subreds)"
   ]
  },
  {
   "cell_type": "code",
   "execution_count": null,
   "metadata": {},
   "outputs": [],
   "source": [
    "chisq_sub = 0; chisq_low = 0; chisq_sub_3bl=0;\n",
    "\n",
    "for k in true_vis.keys():\n",
    "    subreds = [bls for bls in reds if k in bls][0]\n",
    "    for (i,j,pol) in subreds:\n",
    "        chisq_sub += np.abs((subsol[i,'Jxx']*np.conj(subsol[j,'Jxx'])*model_vis_sub[k] -data_sub[(i,j,pol)]))**2\n",
    "        chisq_low += np.abs((sol[i,'Jxx']*np.conj(sol[j,'Jxx'])*sol[k] -data_low[(i,j,pol)]))**2\n",
    "        if k in subvis_keys:\n",
    "            chisq_sub_3bl += np.abs((subsol[i,'Jxx']*np.conj(subsol[j,'Jxx'])*subsol[k] -data_sub[(i,j,pol)]))**2\n",
    "        \n",
    "chisq_sub = chisq_sub/((666-100+4)*sigma_sub**2)\n",
    "chisq_low = chisq_low/((666-100+4)*sigma_low**2)\n",
    "\n",
    "print \"SUBREDCAL: mean: \", np.mean(chisq_sub[0]), \" median: \", np.median(chisq_sub[0])\n",
    "print \"LOWCADCAL: mean: \", np.mean(chisq_low[0]), \" median: \", np.median(chisq_low[0])\n",
    "\n",
    "# Subredcal chi^2 for the baselines included only\n",
    "chisq_sub_3bl = chisq_sub_3bl/((90-40+4)*sigma_sub**2)\n",
    "\n",
    "print \"subredcal: only included baselines: \", np.mean(chisq_sub_3bl[0])"
   ]
  },
  {
   "cell_type": "markdown",
   "metadata": {},
   "source": [
    "# Border case"
   ]
  },
  {
   "cell_type": "code",
   "execution_count": null,
   "metadata": {},
   "outputs": [],
   "source": [
    "sigma_sub = 0.4\n",
    "sigma_low = sigma_sub * np.sqrt(666/90.)\n",
    "\n",
    "data_sub = {k:v+ sigma_sub*redcal.noise((1, Nsim)) for k,v in true_data.items()}\n",
    "data_low = {k:v+ sigma_low*redcal.noise((1, Nsim)) for k,v in true_data.items()}\n",
    "    \n",
    "redcalibrator = redcal.RedundantCalibrator(reds)\n",
    "#sol_degen = redcalibrator.logcal(data_low)\n",
    "sol_degen = {k:np.ones_like(v) for k,v in true_gains.items()}\n",
    "sol_degen.update({k:np.ones_like(v) for k,v in true_vis.items()})\n",
    "sol_degen = redcalibrator.omnical(data_low, sol_degen, gain=0.2, maxiter=1000,\n",
    "                                 check_after= 10, conv_crit=1e-6)\n",
    "sol = redcalibrator.remove_degen(sol_degen[1], degen_sol= true_gains)\n",
    "\n",
    "redcalibrator_sub = redcal.RedundantCalibrator([reds[0],reds[1],reds[2]])\n",
    "#subsol_degen = redcalibrator_sub.logcal(data_sub)\n",
    "subsol_degen = {k:np.ones_like(v) for k,v in true_gains.items()}\n",
    "subsol_degen.update({k:np.ones_like(v) for k,v in true_vis.items() if k in subvis_keys})\n",
    "subsol_degen = redcalibrator_sub.omnical(data_sub, subsol_degen, gain=0.2, maxiter=1000, \n",
    "                                         check_after= 10, conv_crit=1e-6)\n",
    "subsol = redcalibrator_sub.remove_degen(subsol_degen[1], degen_sol= true_gains)"
   ]
  },
  {
   "cell_type": "code",
   "execution_count": null,
   "metadata": {},
   "outputs": [],
   "source": [
    "#sol_degen\n",
    "print \"No \\t chisq \\t conv_crit\\t iter\"\n",
    "print \"-----------------------------------------\"\n",
    "for n in range(Nsim):\n",
    "    print \"%2d\\t %4.2f \\t %1.2e\\t %1.2e\"%(n, sol_degen[0]['chisq'][0,n], sol_degen[0]['conv_crit'][0,n], \n",
    "                                          sol_degen[0]['iter'][0,n])"
   ]
  },
  {
   "cell_type": "code",
   "execution_count": null,
   "metadata": {},
   "outputs": [],
   "source": [
    "# subsol_degen\n",
    "print \"No \\t chisq \\t conv_crit\\t iter\"\n",
    "print \"-----------------------------------------\"\n",
    "for n in range(Nsim):\n",
    "    print \"%2d\\t %4.2f \\t %1.2e\\t %1.2e\"%(n, subsol_degen[0]['chisq'][0,n], subsol_degen[0]['conv_crit'][0,n], \n",
    "                                          subsol_degen[0]['iter'][0,n])"
   ]
  },
  {
   "cell_type": "code",
   "execution_count": null,
   "metadata": {},
   "outputs": [],
   "source": [
    "# Check chisq of just the shortest baselines\n",
    "chisq = 0\n",
    "for k in subvis_keys:\n",
    "    subreds = [bls for bls in reds if k in bls][0]\n",
    "    for (i,j,pol) in subreds:\n",
    "        chisq += np.abs((subsol[(i,'Jxx')]*np.conj(subsol[(j,'Jxx')])*subsol[k])- data_sub[(i,j,pol)])**2\n",
    "        \n",
    "chisq = chisq/((90-40+4)*sigma_sub**2)\n",
    "print chisq[0]"
   ]
  },
  {
   "cell_type": "code",
   "execution_count": null,
   "metadata": {},
   "outputs": [],
   "source": [
    "model_vis_sub = {}\n",
    "for k in true_vis.keys():\n",
    "    if k in subsol.keys():\n",
    "        model_vis_sub[k] = subsol[k]\n",
    "    else:\n",
    "        subreds = [bls for bls in reds if k in bls][0]\n",
    "        model_vis_sub[k] = optimize_red_vis(data_sub, subsol, subreds)"
   ]
  },
  {
   "cell_type": "code",
   "execution_count": null,
   "metadata": {},
   "outputs": [],
   "source": [
    "chisq_sub = 0; chisq_low = 0; chisq_sub_3bl=0;\n",
    "\n",
    "for k in true_vis.keys():\n",
    "    subreds = [bls for bls in reds if k in bls][0]\n",
    "    for (i,j,pol) in subreds:\n",
    "        chisq_sub += np.abs((subsol[i,'Jxx']*np.conj(subsol[j,'Jxx'])*model_vis_sub[k] -data_sub[(i,j,pol)]))**2\n",
    "        chisq_low += np.abs((sol[i,'Jxx']*np.conj(sol[j,'Jxx'])*sol[k] -data_low[(i,j,pol)]))**2\n",
    "        if k in subvis_keys:\n",
    "            chisq_sub_3bl += np.abs((subsol[i,'Jxx']*np.conj(subsol[j,'Jxx'])*subsol[k] -data_sub[(i,j,pol)]))**2\n",
    "        \n",
    "chisq_sub = chisq_sub/((666-100+4)*sigma_sub**2)\n",
    "chisq_low = chisq_low/((666-100+4)*sigma_low**2)\n",
    "\n",
    "print \"SUBREDCAL: mean: \", np.mean(chisq_sub[0]), \" median: \", np.median(chisq_sub[0])\n",
    "print \"LOWCADCAL: mean: \", np.mean(chisq_low[0]), \" median: \", np.median(chisq_low[0])\n",
    "\n",
    "# Subredcal chi^2 for the baselines included only\n",
    "chisq_sub_3bl = chisq_sub_3bl/((90-40+4)*sigma_sub**2)\n",
    "\n",
    "print \"subredcal: only included baselines: \", np.mean(chisq_sub_3bl[0])"
   ]
  },
  {
   "cell_type": "code",
   "execution_count": null,
   "metadata": {},
   "outputs": [],
   "source": []
  },
  {
   "cell_type": "code",
   "execution_count": null,
   "metadata": {},
   "outputs": [],
   "source": []
  },
  {
   "cell_type": "code",
   "execution_count": null,
   "metadata": {},
   "outputs": [],
   "source": []
  },
  {
   "cell_type": "code",
   "execution_count": null,
   "metadata": {},
   "outputs": [],
   "source": [
    "model_vis_sub = {}\n",
    "for k in true_vis.keys():\n",
    "    if k in subsol.keys():\n",
    "        model_vis_sub[k] = subsol[k]\n",
    "    else:\n",
    "        subreds = [bls for bls in reds if k in bls][0]\n",
    "        model_vis_sub[k] = optimize_red_vis(data_sub, subsol, subreds)"
   ]
  },
  {
   "cell_type": "code",
   "execution_count": null,
   "metadata": {},
   "outputs": [],
   "source": [
    "chisq_sub = 0; chisq_low = 0; chisq_sub_3bl=0;\n",
    "\n",
    "for k in true_vis.keys():\n",
    "    subreds = [bls for bls in reds if k in bls][0]\n",
    "    for (i,j,pol) in subreds:\n",
    "        chisq_sub += np.abs((subsol[i,'Jxx']*np.conj(subsol[j,'Jxx'])*model_vis_sub[k] -data_sub[(i,j,pol)]))**2\n",
    "        chisq_low += np.abs((sol[i,'Jxx']*np.conj(sol[j,'Jxx'])*sol[k] -data_low[(i,j,pol)]))**2\n",
    "        if k in subvis_keys:\n",
    "            chisq_sub_3bl += np.abs((subsol[i,'Jxx']*np.conj(subsol[j,'Jxx'])*subsol[k] -data_sub[(i,j,pol)]))**2\n",
    "        \n",
    "chisq_sub = chisq_sub/((666-100+4)*sigma_sub**2)\n",
    "chisq_low = chisq_low/((666-100+4)*sigma_low**2)\n",
    "\n",
    "print \"SUBREDCAL: mean: \", np.mean(chisq_sub[0]), \" median: \", np.median(chisq_sub[0])\n",
    "print \"LOWCADCAL: mean: \", np.mean(chisq_low[0]), \" median: \", np.median(chisq_low[0])\n",
    "\n",
    "# Subredcal chi^2 for the baselines included only\n",
    "chisq_sub_3bl = chisq_sub_3bl/((90-40+4)*sigma_sub**2)\n",
    "\n",
    "print \"subredcal: only included baselines: \", np.mean(chisq_sub_3bl[0])"
   ]
  },
  {
   "cell_type": "code",
   "execution_count": null,
   "metadata": {},
   "outputs": [],
   "source": []
  },
  {
   "cell_type": "code",
   "execution_count": null,
   "metadata": {},
   "outputs": [],
   "source": []
  },
  {
   "cell_type": "code",
   "execution_count": null,
   "metadata": {},
   "outputs": [],
   "source": []
  },
  {
   "cell_type": "code",
   "execution_count": null,
   "metadata": {},
   "outputs": [],
   "source": []
  },
  {
   "cell_type": "code",
   "execution_count": null,
   "metadata": {},
   "outputs": [],
   "source": []
  },
  {
   "cell_type": "code",
   "execution_count": null,
   "metadata": {},
   "outputs": [],
   "source": []
  },
  {
   "cell_type": "code",
   "execution_count": null,
   "metadata": {},
   "outputs": [],
   "source": []
  },
  {
   "cell_type": "code",
   "execution_count": null,
   "metadata": {},
   "outputs": [],
   "source": []
  },
  {
   "cell_type": "code",
   "execution_count": null,
   "metadata": {},
   "outputs": [],
   "source": [
    "subgain = []\n",
    "allgain = []\n",
    "\n",
    "for ant in range(37):\n",
    "    allgain.append(np.log(sol[(ant,'Jxx')][0]))\n",
    "    subgain.append(np.log(subsol[(ant,'Jxx')][0]))\n",
    "\n",
    "subcovr = np.cov(np.real(subgain))\n",
    "subcovi = np.cov(np.imag(subgain))\n",
    "\n",
    "allcovr = np.cov(np.real(allgain))\n",
    "allcovi = np.cov(np.imag(allgain))\n",
    "\n",
    "plt.figure(figsize=(8,8))\n",
    "plt.subplot(221)\n",
    "plt.title('Real All')\n",
    "plt.imshow(np.abs(allcovr))\n",
    "plt.colorbar(shrink=0.7)\n",
    "\n",
    "plt.subplot(222)\n",
    "plt.title('Real Subset')\n",
    "plt.imshow(np.abs(subcovr))\n",
    "plt.colorbar(shrink=0.7)\n",
    "\n",
    "plt.subplot(223)\n",
    "plt.title('Imag all')\n",
    "plt.imshow(np.abs(allcovi))\n",
    "plt.colorbar(shrink=0.7)\n",
    "\n",
    "plt.subplot(224)\n",
    "plt.title('Imag subset')\n",
    "plt.imshow(np.abs(subcovi))\n",
    "plt.colorbar(shrink=0.7)"
   ]
  },
  {
   "cell_type": "code",
   "execution_count": null,
   "metadata": {},
   "outputs": [],
   "source": [
    "chisq_sub = 0; chisq_low = 0\n",
    "\n",
    "for k in true_vis.keys():\n",
    "    subreds = [bls for bls in reds if k in bls][0] \n",
    "    for (i,j,pol) in subreds:\n",
    "        chisq_sub += np.abs((subsol[i,'Jxx']*np.conj(subsol[j,'Jxx'])*model_vis_sub[k] -data_sub[(i,j,pol)]))**2\n",
    "        chisq_low += np.abs((sol[i,'Jxx']*np.conj(sol[j,'Jxx'])*sol[k] -data_low[(i,j,pol)]))**2\n",
    "        \n",
    "chisq_sub = chisq_sub/((666-100+4)*sigma_sub**2)\n",
    "chisq_low = chisq_low/((666-100+4)*sigma_low**2)\n",
    "\n",
    "\n",
    "print \"SUBREDCAL: mean: \", np.mean(chisq_sub[0]), \" median: \", np.median(chisq_sub[0])\n",
    "print \"LOWCADCAL: mean: \", np.mean(chisq_low[0]), \" median: \", np.median(chisq_low[0])"
   ]
  },
  {
   "cell_type": "code",
   "execution_count": null,
   "metadata": {},
   "outputs": [],
   "source": [
    "Nsim2 = int(np.log(Nsim)/np.log(2))\n",
    "\n",
    "steps = np.logspace(0, Nsim2, base=2, num=Nsim2+1, dtype=np.int)\n",
    "chisq_sub = np.zeros([Nsim2+1, Nsim])\n",
    "\n",
    "model_vis_sub = {}\n",
    "\n",
    "for n,i in enumerate(steps):\n",
    "    print i\n",
    "    # (i) Average the gains\n",
    "    gain_sub = {}\n",
    "    for k in true_gains.keys():\n",
    "        gain_sub[k] = np.asarray([np.repeat(np.mean(subsol[k].reshape(-1,i), axis=1), i, axis=0)])\n",
    "\n",
    "    # (ii) Compute all model visibilities with the averaged gains\n",
    "    model_vis_sub[n] = {}\n",
    "    \n",
    "    for k in true_vis.keys():\n",
    "        if k in subsol.keys():\n",
    "            model_vis_sub[n][k] = subsol[k]\n",
    "        else:\n",
    "            subreds = [bls for bls in reds if k in bls][0]\n",
    "            model_vis_sub[n][k] = optimize_red_vis(data_sub, gain_sub, subreds)\n",
    "\n",
    "            \n",
    "    # (iii) Compute the chisq with these new model visibilities\n",
    "    for k in true_vis.keys():\n",
    "        subreds = [bls for bls in reds if k in bls][0] \n",
    "        for (a1,a2,pol) in subreds:\n",
    "            chisq_sub[n] += np.abs((gain_sub[(a1,'Jxx')]*np.conj(gain_sub[(a2,'Jxx')])\\\n",
    "                                    *model_vis_sub[n][k] -data_sub[(a1,a2,pol)])[0])**2\n",
    "\n",
    "    chisq_sub[n] = chisq_sub[n]/((i*666. - (37+ (63*i)- (4*i)))* sigma_sub**2)"
   ]
  },
  {
   "cell_type": "code",
   "execution_count": null,
   "metadata": {},
   "outputs": [],
   "source": [
    "plt.figure()\n",
    "for n,i in enumerate(steps):\n",
    "    chi = np.mean(np.sum(chisq_sub[n].reshape(-1,i),axis=1))\n",
    "    print i, chi\n",
    "    plt.plot(i, chi, 'o')\n",
    "\n",
    "plt.plot(1,np.mean(chisq_low[0]),'o',color='k')\n",
    "plt.grid()\n",
    "plt.semilogx()\n",
    "plt.xlabel('Number of simulations averaged over')\n",
    "plt.ylabel('')"
   ]
  },
  {
   "cell_type": "code",
   "execution_count": null,
   "metadata": {},
   "outputs": [],
   "source": [
    "fig, ax = plt.subplots(1,2,figsize=(11,5),sharey=True)\n",
    "\n",
    "dev_sub = np.asarray([]); \n",
    "dev_all = np.asarray([])\n",
    "subsol_vis_keys = [(0,1,'xx'),(0,4,'xx'),(0,5,'xx')]\n",
    "\n",
    "for k in true_vis.keys():\n",
    "    subreds = [ _ for _ in reds if k in _ ][0]\n",
    "    for subbl in subreds:\n",
    "        dev_sub = np.append(dev_sub, np.abs(model_vis_sub[subbl]-true_vis[k])[0])\n",
    "        dev_all = np.append(dev_all, np.abs(sol[subbl]-true_vis[k])[0])\n",
    "\n",
    "n, b, p  = ax[0].hist(dev_sub, bins=256, color='k', alpha=0.5, label='subredcal')\n",
    "na,ba,pa = ax[0].hist(dev_all, bins=b,  color='m', alpha=0.5, label='redcal')\n",
    "ax[0].legend()\n",
    "ax[0].set_title('Baselines in subredcal')\n",
    "ax[0].set_xlabel(r'$\\left|V^{calib}_{ij} - V^{true}_{ij} \\right|$')\n",
    "\n",
    "dev_sub = np.asarray([]); dev_all = np.asarray([])\n",
    "for k in model_vis_sub.keys():\n",
    "    if k not in subsol_vis_keys:\n",
    "        subreds = [ _ for _ in reds if k in _ ][0]\n",
    "        for subbl in subreds:\n",
    "            dev_sub = np.append(dev_sub, np.abs(subreds_vis_sub[subbl]-true_vis[k])[0])\n",
    "            dev_all = np.append(dev_all, np.abs(subreds_vis_all[subbl]-true_vis[k])[0])\n",
    "\n",
    "n, b, p  = ax[1].hist(dev_sub, bins=3000, color='k', alpha=0.5, label='subredcal')\n",
    "na,ba,pa = ax[1].hist(dev_all, bins=b,  color='m', alpha=0.5, label='redcal')\n",
    "ax[1].legend()\n",
    "ax[1].set_xlim([0,0.25])\n",
    "ax[1].set_title('All other baselines')\n",
    "ax[1].set_xlabel(r'$\\left|V^{calib}_{ij} - V^{true}_{ij} \\right|$')"
   ]
  },
  {
   "cell_type": "markdown",
   "metadata": {},
   "source": [
    "# Minimum SNR for convergence"
   ]
  },
  {
   "cell_type": "code",
   "execution_count": null,
   "metadata": {},
   "outputs": [],
   "source": [
    "sigma = np.linspace(0.01,0.5,num=11)\n",
    "sigma = [0.4]\n",
    "\n",
    "for sigma_sub in sigma:\n",
    "    data_sub = {k:v+ sigma_sub*redcal.noise((1, Nsim)) for k,v in true_data.items()}\n",
    "\n",
    "    redcalibrator_sub = redcal.RedundantCalibrator([reds[0],reds[1],reds[2]])\n",
    "    subsol_degen = redcalibrator_sub.logcal(data_sub)\n",
    "    subsol_degen = redcalibrator_sub.lincal(data_sub, subsol_degen)\n",
    "    subsol = redcalibrator_sub.remove_degen(subsol_degen[1], degen_sol= true_gains)\n",
    "    \n",
    "    # Optimize for the other visibilities\n",
    "    model_vis_sub = {}\n",
    "    for k in true_vis.keys():\n",
    "        if k in subsol.keys():\n",
    "            model_vis_sub[k] = subsol[k]\n",
    "        else:\n",
    "            subreds = [bls for bls in reds if k in bls][0]\n",
    "            model_vis_sub[k] = optimize_red_vis(data_sub, subsol, subreds)\n",
    "            \n",
    "    # Compute chisq\n",
    "    chisq_sub = 0\n",
    "    \n",
    "    for k in true_vis.keys():\n",
    "        subreds = [bls for bls in reds if k in bls][0] \n",
    "        for (i,j,pol) in subreds:\n",
    "            chisq_sub += np.abs((subsol[i,'Jxx']*np.conj(subsol[j,'Jxx'])*model_vis_sub[k] -data_sub[(i,j,pol)]))**2\n",
    "\n",
    "    chisq_sub = chisq_sub/((666-100+4)*sigma_sub**2)\n",
    "\n",
    "    print sigma_sub, np.median(chisq_sub[0])"
   ]
  },
  {
   "cell_type": "code",
   "execution_count": null,
   "metadata": {},
   "outputs": [],
   "source": [
    "sigma = np.linspace(0.01,0.5,num=11)\n",
    "\n",
    "\n",
    "for sigma_sub in sigma:\n",
    "    data_sub = {k:v+ sigma_sub*redcal.noise((1, Nsim)) for k,v in true_data.items()}\n",
    "\n",
    "    redcalibrator_sub = redcal.RedundantCalibrator(reds[0:6])\n",
    "    subsol_degen = redcalibrator_sub.logcal(data_sub)\n",
    "    subsol_degen = redcalibrator_sub.lincal(data_sub, subsol_degen)\n",
    "    subsol = redcalibrator_sub.remove_degen(subsol_degen[1], degen_sol= true_gains)\n",
    "    \n",
    "    # Optimize for the other visibilities\n",
    "    model_vis_sub = {}\n",
    "    for k in true_vis.keys():\n",
    "        if k in subsol.keys():\n",
    "            model_vis_sub[k] = subsol[k]\n",
    "        else:\n",
    "            subreds = [bls for bls in reds if k in bls][0]\n",
    "            model_vis_sub[k] = optimize_red_vis(data_sub, subsol, subreds)\n",
    "            \n",
    "    # Compute chisq\n",
    "    chisq_sub = 0\n",
    "    \n",
    "    for k in true_vis.keys():\n",
    "        subreds = [bls for bls in reds if k in bls][0] \n",
    "        for (i,j,pol) in subreds:\n",
    "            chisq_sub += np.abs((subsol[i,'Jxx']*np.conj(subsol[j,'Jxx'])*model_vis_sub[k] -data_sub[(i,j,pol)]))**2\n",
    "\n",
    "    chisq_sub = chisq_sub/((666-100+4)*sigma_sub**2)\n",
    "\n",
    "    print sigma_sub, np.mean(chisq_sub[0])"
   ]
  },
  {
   "cell_type": "markdown",
   "metadata": {},
   "source": [
    "# Low cadence - minimum SNR for convergence"
   ]
  },
  {
   "cell_type": "code",
   "execution_count": null,
   "metadata": {},
   "outputs": [],
   "source": [
    "sigma = np.linspace(0.5,1.5,num=11)\n",
    "sigma"
   ]
  },
  {
   "cell_type": "code",
   "execution_count": null,
   "metadata": {},
   "outputs": [],
   "source": [
    "sigma = np.linspace(0.5,1.5,num=11)\n",
    "\n",
    "for sigma_low in sigma:\n",
    "    data_low = {k:v+ sigma_low*redcal.noise((1, Nsim)) for k,v in true_data.items()}\n",
    "\n",
    "    redcalibrator = redcal.RedundantCalibrator(reds)\n",
    "    sol_degen = redcalibrator.logcal(data_low)\n",
    "    sol_degen = redcalibrator.lincal(data_low, sol_degen)\n",
    "    sol = redcalibrator.remove_degen(sol_degen[1], degen_sol= true_gains)\n",
    "            \n",
    "    # Compute chisq\n",
    "    chisq_low = 0\n",
    "    \n",
    "    for k in true_vis.keys():\n",
    "        subreds = [bls for bls in reds if k in bls][0] \n",
    "        for (i,j,pol) in subreds:\n",
    "            chisq_low += np.abs((sol[i,'Jxx']*np.conj(sol[j,'Jxx'])*sol[k] -data_low[(i,j,pol)]))**2\n",
    "\n",
    "    chisq_low = chisq_low/((666-100+4)*sigma_low**2)\n",
    "\n",
    "    print sigma_low, np.mean(chisq_low[0])"
   ]
  },
  {
   "cell_type": "code",
   "execution_count": null,
   "metadata": {},
   "outputs": [],
   "source": [
    "sigma = np.linspace(2,2.5,num=11)\n",
    "\n",
    "for sigma_low in sigma:\n",
    "    data_low = {k:v+ sigma_low*redcal.noise((1, Nsim)) for k,v in true_data.items()}\n",
    "\n",
    "    redcalibrator = redcal.RedundantCalibrator(reds)\n",
    "    sol_degen = redcalibrator.logcal(data_low)\n",
    "    sol_degen = redcalibrator.lincal(data_low, sol_degen)\n",
    "    sol = redcalibrator.remove_degen(sol_degen[1], degen_sol= true_gains)\n",
    "            \n",
    "    # Compute chisq\n",
    "    chisq_low = 0\n",
    "    \n",
    "    for k in true_vis.keys():\n",
    "        subreds = [bls for bls in reds if k in bls][0] \n",
    "        for (i,j,pol) in subreds:\n",
    "            chisq_low += np.abs((sol[i,'Jxx']*np.conj(sol[j,'Jxx'])*sol[k] -data_low[(i,j,pol)]))**2\n",
    "\n",
    "    chisq_low = chisq_low/((666-100+4)*sigma_low**2)\n",
    "\n",
    "    print sigma_low, np.mean(chisq_low[0])"
   ]
  }
 ],
 "metadata": {
  "kernelspec": {
   "display_name": "Python 2",
   "language": "python",
   "name": "python2"
  },
  "language_info": {
   "codemirror_mode": {
    "name": "ipython",
    "version": 2
   },
   "file_extension": ".py",
   "mimetype": "text/x-python",
   "name": "python",
   "nbconvert_exporter": "python",
   "pygments_lexer": "ipython2",
   "version": "2.7.15"
  }
 },
 "nbformat": 4,
 "nbformat_minor": 2
}
