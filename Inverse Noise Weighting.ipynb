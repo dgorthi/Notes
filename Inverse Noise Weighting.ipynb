{
 "cells": [
  {
   "cell_type": "markdown",
   "metadata": {},
   "source": [
    "# Inverse Noise Weighting\n",
    "\n",
    "Say you have **M measurements** with some noise and **N parameters** that you need to fit for.\n",
    "\n",
    "$$ g_i g_j^* V_{ij}^M = V_{ij} + n_{ij} = V_{ij}' $$\n",
    "$$ g_l g_m^* V_{ij}^M = V_{lm} + n_{lm} = V_{lm}' $$ ...\n",
    "\n",
    "The system of equations can be represented by the matrix equation:\n",
    "$$ AX = Y $$\n",
    "\n",
    "where A is the matrix of coefficients, X is the matrix of parameters ($g_i$, $g_j$, ... $V_{ij}$... ) and Y is matrix of measurement results which are noisy (with unknown noise properties in general).\n",
    "\n",
    "The solution of the system of linear equations is given by:\n",
    "$$ X = (A^{\\dagger}N^{-1}A)^{-1}A^{\\dagger}N^{-1}Y$$\n",
    "\n",
    "\n",
    "$$N = nn^{\\dagger}$$"
   ]
  },
  {
   "cell_type": "markdown",
   "metadata": {},
   "source": [
    "## Noise matrix?\n",
    "\n",
    "Some ways to understand the noise matrix:\n",
    "\n",
    "$$N = \\langle nn^{\\dagger} \\rangle$$ \n",
    "\n",
    "1. Is a diagonal matrix if there is no covariance.\n",
    "2. Is proportional to the identity matrix if all measurements have the same noise. $N = nI$"
   ]
  },
  {
   "cell_type": "code",
   "execution_count": 55,
   "metadata": {},
   "outputs": [],
   "source": [
    "%matplotlib inline\n",
    "import numpy as np\n",
    "import matplotlib.pyplot as plt"
   ]
  },
  {
   "cell_type": "markdown",
   "metadata": {},
   "source": [
    "### Fit for a straight line"
   ]
  },
  {
   "cell_type": "code",
   "execution_count": 3,
   "metadata": {},
   "outputs": [
    {
     "data": {
      "image/png": "[encoded data removed]",
      "text/plain": [
       "<matplotlib.figure.Figure at 0x7f2f96ef2190>"
      ]
     },
     "metadata": {},
     "output_type": "display_data"
    }
   ],
   "source": [
    "# Generate data\n",
    "\n",
    "datapoints = 200\n",
    "\n",
    "x = np.linspace(-100,99,num=datapoints)\n",
    "n = np.random.normal(scale=15,size=datapoints)\n",
    "y = 4*x + 10 + n\n",
    "\n",
    "fig,ax = plt.subplots(1,1,figsize=(10,7))\n",
    "ax.errorbar(x,y,yerr=n,fmt='o')\n",
    "plt.show()"
   ]
  },
  {
   "cell_type": "code",
   "execution_count": 4,
   "metadata": {},
   "outputs": [
    {
     "name": "stdout",
     "output_type": "stream",
     "text": [
      "(200, 200)\n"
     ]
    }
   ],
   "source": [
    "n = np.transpose(np.matrix(n))\n",
    "N = np.dot(n,np.transpose(np.conj(n)))\n",
    "print N.shape"
   ]
  },
  {
   "cell_type": "code",
   "execution_count": 5,
   "metadata": {},
   "outputs": [
    {
     "data": {
      "text/plain": [
       "matrix([[  1.16271095e+02,  -3.38467640e+02,  -2.21528364e+02, ...,\n",
       "          -2.53460613e+02,   5.30901401e+00,  -3.61858400e+01],\n",
       "        [ -3.38467640e+02,   9.85286533e+02,   6.44873801e+02, ...,\n",
       "           7.37829260e+02,  -1.54546532e+01,   1.05337753e+02],\n",
       "        [ -2.21528364e+02,   6.44873801e+02,   4.22072367e+02, ...,\n",
       "           4.82912071e+02,  -1.01151296e+01,   6.89439622e+01],\n",
       "        ..., \n",
       "        [ -2.53460613e+02,   7.37829260e+02,   4.82912071e+02, ...,\n",
       "           5.52521525e+02,  -1.15731769e+01,   7.88819029e+01],\n",
       "        [  5.30901401e+00,  -1.54546532e+01,  -1.01151296e+01, ...,\n",
       "          -1.15731769e+01,   2.42413042e-01,  -1.65226905e+00],\n",
       "        [ -3.61858400e+01,   1.05337753e+02,   6.89439622e+01, ...,\n",
       "           7.88819029e+01,  -1.65226905e+00,   1.12617415e+01]])"
      ]
     },
     "execution_count": 5,
     "metadata": {},
     "output_type": "execute_result"
    }
   ],
   "source": [
    "N"
   ]
  },
  {
   "cell_type": "markdown",
   "metadata": {},
   "source": [
    "### Doubts:\n",
    "\n",
    "I don't understand the noise matrix. How can it be diagonal if it is not time averaged? What does time averaging mean for a given experiment?\n",
    "\n",
    "N = nI in the experiment below -- same noise (not statistically same, exactly same?) for all measurements."
   ]
  },
  {
   "cell_type": "code",
   "execution_count": 6,
   "metadata": {
    "collapsed": true
   },
   "outputs": [],
   "source": [
    "# Generating N as some noise times the identity matrix\n",
    "N = 225*np.identity(datapoints)"
   ]
  },
  {
   "cell_type": "code",
   "execution_count": 7,
   "metadata": {},
   "outputs": [
    {
     "name": "stdout",
     "output_type": "stream",
     "text": [
      "(200, 200) (200, 2) (200, 1)\n"
     ]
    }
   ],
   "source": [
    "Ninv = np.linalg.inv(N)\n",
    "A = np.transpose(np.matrix([x,y]))\n",
    "Y = 10*np.transpose(np.matrix(np.ones(datapoints)))\n",
    "print Ninv.shape, A.shape, Y.shape"
   ]
  },
  {
   "cell_type": "code",
   "execution_count": 8,
   "metadata": {},
   "outputs": [
    {
     "data": {
      "text/plain": [
       "matrix([[-100.        , -400.78290752],\n",
       "        [ -99.        , -354.61072583],\n",
       "        [ -98.        , -361.45560009],\n",
       "        [ -97.        , -403.08182479],\n",
       "        [ -96.        , -382.43937509],\n",
       "        [ -95.        , -357.51555682],\n",
       "        [ -94.        , -386.2487987 ],\n",
       "        [ -93.        , -368.24369808],\n",
       "        [ -92.        , -353.57134577],\n",
       "        [ -91.        , -377.00814544],\n",
       "        [ -90.        , -354.56222529],\n",
       "        [ -89.        , -358.14292095],\n",
       "        [ -88.        , -349.37143123],\n",
       "        [ -87.        , -328.79478074],\n",
       "        [ -86.        , -332.7702699 ],\n",
       "        [ -85.        , -302.2827571 ],\n",
       "        [ -84.        , -333.36930837],\n",
       "        [ -83.        , -345.80596964],\n",
       "        [ -82.        , -293.63617873],\n",
       "        [ -81.        , -329.72923061],\n",
       "        [ -80.        , -325.14797927],\n",
       "        [ -79.        , -302.80511274],\n",
       "        [ -78.        , -284.58130359],\n",
       "        [ -77.        , -276.86583777],\n",
       "        [ -76.        , -287.17348437],\n",
       "        [ -75.        , -309.52989968],\n",
       "        [ -74.        , -257.05988166],\n",
       "        [ -73.        , -279.47034297],\n",
       "        [ -72.        , -280.52690385],\n",
       "        [ -71.        , -265.97378664],\n",
       "        [ -70.        , -270.82581408],\n",
       "        [ -69.        , -293.15188292],\n",
       "        [ -68.        , -245.58451661],\n",
       "        [ -67.        , -266.73074476],\n",
       "        [ -66.        , -258.65449708],\n",
       "        [ -65.        , -247.40621828],\n",
       "        [ -64.        , -233.663018  ],\n",
       "        [ -63.        , -250.25790154],\n",
       "        [ -62.        , -261.85739979],\n",
       "        [ -61.        , -192.20750214],\n",
       "        [ -60.        , -239.73495662],\n",
       "        [ -59.        , -228.55378872],\n",
       "        [ -58.        , -227.1000552 ],\n",
       "        [ -57.        , -215.78781599],\n",
       "        [ -56.        , -221.58344647],\n",
       "        [ -55.        , -211.90848995],\n",
       "        [ -54.        , -200.81426001],\n",
       "        [ -53.        , -211.58043488],\n",
       "        [ -52.        , -193.54636876],\n",
       "        [ -51.        , -214.14786947],\n",
       "        [ -50.        , -186.99379056],\n",
       "        [ -49.        , -178.806368  ],\n",
       "        [ -48.        , -142.46755156],\n",
       "        [ -47.        , -163.0445981 ],\n",
       "        [ -46.        , -188.46787114],\n",
       "        [ -45.        , -130.99799004],\n",
       "        [ -44.        , -153.59824769],\n",
       "        [ -43.        , -145.5072649 ],\n",
       "        [ -42.        , -152.06619821],\n",
       "        [ -41.        , -151.3712505 ],\n",
       "        [ -40.        , -150.65208033],\n",
       "        [ -39.        , -129.57797776],\n",
       "        [ -38.        , -167.36658152],\n",
       "        [ -37.        , -159.45527477],\n",
       "        [ -36.        , -120.90991357],\n",
       "        [ -35.        , -128.52849929],\n",
       "        [ -34.        ,  -86.2578754 ],\n",
       "        [ -33.        , -107.25133665],\n",
       "        [ -32.        , -120.81972691],\n",
       "        [ -31.        , -103.02669819],\n",
       "        [ -30.        ,  -89.74448238],\n",
       "        [ -29.        , -108.76486939],\n",
       "        [ -28.        , -113.62090922],\n",
       "        [ -27.        , -105.16967783],\n",
       "        [ -26.        ,  -85.66102166],\n",
       "        [ -25.        ,  -92.75311846],\n",
       "        [ -24.        ,  -73.36571382],\n",
       "        [ -23.        ,  -75.47167501],\n",
       "        [ -22.        ,  -81.62788258],\n",
       "        [ -21.        ,  -38.52355607],\n",
       "        [ -20.        ,  -85.43432643],\n",
       "        [ -19.        ,  -57.46731538],\n",
       "        [ -18.        ,  -65.5464933 ],\n",
       "        [ -17.        ,  -58.11663119],\n",
       "        [ -16.        ,  -59.96112484],\n",
       "        [ -15.        ,  -56.12095523],\n",
       "        [ -14.        ,  -73.53321151],\n",
       "        [ -13.        ,  -69.05301525],\n",
       "        [ -12.        ,  -37.9847445 ],\n",
       "        [ -11.        ,  -24.88269926],\n",
       "        [ -10.        ,  -21.99374784],\n",
       "        [  -9.        ,  -37.72243767],\n",
       "        [  -8.        ,    2.26052851],\n",
       "        [  -7.        ,  -33.08586796],\n",
       "        [  -6.        ,  -15.63182684],\n",
       "        [  -5.        ,  -39.50247167],\n",
       "        [  -4.        ,  -13.29375681],\n",
       "        [  -3.        ,  -27.6243745 ],\n",
       "        [  -2.        ,  -16.5001355 ],\n",
       "        [  -1.        ,    3.10068942],\n",
       "        [   0.        ,    3.01104842],\n",
       "        [   1.        ,   10.30227774],\n",
       "        [   2.        ,   27.4391541 ],\n",
       "        [   3.        ,   47.77228663],\n",
       "        [   4.        ,   37.7324247 ],\n",
       "        [   5.        ,   24.14363736],\n",
       "        [   6.        ,   30.53464029],\n",
       "        [   7.        ,   19.98568632],\n",
       "        [   8.        ,   37.91141667],\n",
       "        [   9.        ,   48.37329571],\n",
       "        [  10.        ,   39.0745672 ],\n",
       "        [  11.        ,   58.81320622],\n",
       "        [  12.        ,   69.50738318],\n",
       "        [  13.        ,   66.89626126],\n",
       "        [  14.        ,   60.8499808 ],\n",
       "        [  15.        ,   68.5303409 ],\n",
       "        [  16.        ,   66.28211156],\n",
       "        [  17.        ,   76.09161828],\n",
       "        [  18.        ,   79.46624546],\n",
       "        [  19.        ,   98.84717408],\n",
       "        [  20.        ,  112.30963774],\n",
       "        [  21.        ,   95.85544098],\n",
       "        [  22.        ,   91.28491976],\n",
       "        [  23.        ,  132.57942946],\n",
       "        [  24.        ,   81.20678687],\n",
       "        [  25.        ,  103.79194276],\n",
       "        [  26.        ,  118.9179321 ],\n",
       "        [  27.        ,  127.30984403],\n",
       "        [  28.        ,  124.68763153],\n",
       "        [  29.        ,  111.69786341],\n",
       "        [  30.        ,  145.3618885 ],\n",
       "        [  31.        ,  126.89468085],\n",
       "        [  32.        ,  125.97266342],\n",
       "        [  33.        ,  147.75628168],\n",
       "        [  34.        ,  147.8421207 ],\n",
       "        [  35.        ,  149.37442396],\n",
       "        [  36.        ,  157.21649706],\n",
       "        [  37.        ,  157.46758378],\n",
       "        [  38.        ,  159.78189435],\n",
       "        [  39.        ,  150.56226754],\n",
       "        [  40.        ,  153.95170973],\n",
       "        [  41.        ,  189.7269784 ],\n",
       "        [  42.        ,  195.18746845],\n",
       "        [  43.        ,  185.94484698],\n",
       "        [  44.        ,  176.46987324],\n",
       "        [  45.        ,  197.82266282],\n",
       "        [  46.        ,  177.57421833],\n",
       "        [  47.        ,  181.89064358],\n",
       "        [  48.        ,  175.7480383 ],\n",
       "        [  49.        ,  211.67079933],\n",
       "        [  50.        ,  214.4253033 ],\n",
       "        [  51.        ,  233.67606668],\n",
       "        [  52.        ,  210.86608911],\n",
       "        [  53.        ,  225.1040466 ],\n",
       "        [  54.        ,  215.14156425],\n",
       "        [  55.        ,  222.36308746],\n",
       "        [  56.        ,  220.4393546 ],\n",
       "        [  57.        ,  230.35980536],\n",
       "        [  58.        ,  221.94559593],\n",
       "        [  59.        ,  262.46101343],\n",
       "        [  60.        ,  236.18942468],\n",
       "        [  61.        ,  299.14213125],\n",
       "        [  62.        ,  249.81004376],\n",
       "        [  63.        ,  281.3017236 ],\n",
       "        [  64.        ,  272.79247086],\n",
       "        [  65.        ,  268.45541334],\n",
       "        [  66.        ,  277.3272137 ],\n",
       "        [  67.        ,  258.85926651],\n",
       "        [  68.        ,  294.77394933],\n",
       "        [  69.        ,  279.41518629],\n",
       "        [  70.        ,  277.02122574],\n",
       "        [  71.        ,  292.61332727],\n",
       "        [  72.        ,  295.98418836],\n",
       "        [  73.        ,  292.39409134],\n",
       "        [  74.        ,  305.48504458],\n",
       "        [  75.        ,  298.16667461],\n",
       "        [  76.        ,  310.0726808 ],\n",
       "        [  77.        ,  319.61740785],\n",
       "        [  78.        ,  349.19636242],\n",
       "        [  79.        ,  367.96091935],\n",
       "        [  80.        ,  344.51132311],\n",
       "        [  81.        ,  332.32723526],\n",
       "        [  82.        ,  350.37708705],\n",
       "        [  83.        ,  352.38887456],\n",
       "        [  84.        ,  359.86938717],\n",
       "        [  85.        ,  336.5001154 ],\n",
       "        [  86.        ,  350.02029408],\n",
       "        [  87.        ,  353.38998243],\n",
       "        [  88.        ,  358.67039156],\n",
       "        [  89.        ,  375.00489596],\n",
       "        [  90.        ,  380.67185223],\n",
       "        [  91.        ,  387.37860311],\n",
       "        [  92.        ,  391.30700964],\n",
       "        [  93.        ,  364.52665344],\n",
       "        [  94.        ,  398.45415124],\n",
       "        [  95.        ,  371.03471511],\n",
       "        [  96.        ,  412.15681309],\n",
       "        [  97.        ,  421.50577641],\n",
       "        [  98.        ,  401.50764541],\n",
       "        [  99.        ,  409.35585184]])"
      ]
     },
     "execution_count": 8,
     "metadata": {},
     "output_type": "execute_result"
    }
   ],
   "source": [
    "A"
   ]
  },
  {
   "cell_type": "code",
   "execution_count": 9,
   "metadata": {
    "collapsed": true
   },
   "outputs": [],
   "source": [
    "# Since A is real, dagger is just transpose.\n",
    "\n",
    "x1 = np.linalg.inv(np.dot(A.T,np.dot(Ninv,A)))\n",
    "x2 = np.dot(A.T,np.dot(Ninv,Y))\n",
    "\n",
    "X = np.dot(x1,x2)"
   ]
  },
  {
   "cell_type": "code",
   "execution_count": 10,
   "metadata": {},
   "outputs": [
    {
     "data": {
      "text/plain": [
       "matrix([[-1.26419119],\n",
       "        [ 0.31528324]])"
      ]
     },
     "execution_count": 10,
     "metadata": {},
     "output_type": "execute_result"
    }
   ],
   "source": [
    "X"
   ]
  },
  {
   "cell_type": "code",
   "execution_count": 11,
   "metadata": {
    "collapsed": true
   },
   "outputs": [],
   "source": [
    "A = np.matrix([[2,3],[4,6]])"
   ]
  },
  {
   "cell_type": "code",
   "execution_count": 12,
   "metadata": {},
   "outputs": [
    {
     "name": "stdout",
     "output_type": "stream",
     "text": [
      "[[20 30]\n",
      " [30 45]]\n"
     ]
    }
   ],
   "source": [
    "# Define matrix M as params averaged over all measurements\n",
    "M = np.dot(A.T,A)\n",
    "print M"
   ]
  },
  {
   "cell_type": "code",
   "execution_count": 15,
   "metadata": {},
   "outputs": [
    {
     "data": {
      "text/plain": [
       "matrix([[ -9.00719925e+14,   6.00479950e+14],\n",
       "        [  6.00479950e+14,  -4.00319967e+14]])"
      ]
     },
     "execution_count": 15,
     "metadata": {},
     "output_type": "execute_result"
    }
   ],
   "source": [
    "np.linalg.inv(M)"
   ]
  },
  {
   "cell_type": "code",
   "execution_count": 13,
   "metadata": {
    "collapsed": true
   },
   "outputs": [],
   "source": [
    "U,s,V = np.linalg.svd(M)"
   ]
  },
  {
   "cell_type": "code",
   "execution_count": 14,
   "metadata": {},
   "outputs": [
    {
     "name": "stdout",
     "output_type": "stream",
     "text": [
      "[[-0.5547002  -0.83205029]\n",
      " [-0.83205029  0.5547002 ]] [  6.50000000e+01   2.96970477e-15] [[-0.5547002  -0.83205029]\n",
      " [-0.83205029  0.5547002 ]]\n"
     ]
    }
   ],
   "source": [
    "print U, s, V"
   ]
  },
  {
   "cell_type": "markdown",
   "metadata": {},
   "source": [
    "# Eigen Spectrum\n",
    "\n",
    "The Eigen spectrum shows how well constrained the parameters are. Higher the eigen value, lower the noise on that parameter. Degenerate parameters have an eigen value of zero, implying that they cannot be constained at all."
   ]
  },
  {
   "cell_type": "code",
   "execution_count": 11,
   "metadata": {},
   "outputs": [
    {
     "data": {
      "image/png": "[encoded data removed]",
      "text/plain": [
       "<matplotlib.figure.Figure at 0x7f6fb3c4dd10>"
      ]
     },
     "metadata": {},
     "output_type": "display_data"
    }
   ],
   "source": [
    "plt.plot(np.arange(2),s,'o-')\n",
    "plt.show()"
   ]
  },
  {
   "cell_type": "code",
   "execution_count": 14,
   "metadata": {},
   "outputs": [
    {
     "data": {
      "text/plain": [
       "array([[-1.,  0.],\n",
       "       [ 0.,  1.]])"
      ]
     },
     "execution_count": 14,
     "metadata": {},
     "output_type": "execute_result"
    }
   ],
   "source": [
    "np.round(U,decimals=2)"
   ]
  },
  {
   "cell_type": "code",
   "execution_count": 15,
   "metadata": {},
   "outputs": [
    {
     "data": {
      "text/plain": [
       "array([[  6.66700000e+05,  -1.00000000e+02],\n",
       "       [ -1.00000000e+02,   2.00000000e+02]])"
      ]
     },
     "execution_count": 15,
     "metadata": {},
     "output_type": "execute_result"
    }
   ],
   "source": [
    "np.round(M,decimals=2)"
   ]
  },
  {
   "cell_type": "code",
   "execution_count": 16,
   "metadata": {},
   "outputs": [
    {
     "data": {
      "text/plain": [
       "array([  6.66700015e+05,   1.99984996e+02])"
      ]
     },
     "execution_count": 16,
     "metadata": {},
     "output_type": "execute_result"
    }
   ],
   "source": [
    "s"
   ]
  },
  {
   "cell_type": "markdown",
   "metadata": {},
   "source": [
    "### Generate matrix A for the HERA antenna layout"
   ]
  },
  {
   "cell_type": "code",
   "execution_count": 26,
   "metadata": {},
   "outputs": [],
   "source": [
    "import hera_cal\n",
    "\n",
    "Nants = 37\n",
    "\n",
    "ants = np.loadtxt('antenna_positions_%d.dat'%Nants)\n",
    "idxs = np.arange(Nants)\n",
    "antpos = {}\n",
    "for k,v in zip(idxs,ants):\n",
    "    antpos[k] = v\n",
    "    \n",
    "redbls = hera_cal.redcal.get_pos_reds(antpos)"
   ]
  },
  {
   "cell_type": "code",
   "execution_count": 27,
   "metadata": {
    "collapsed": true
   },
   "outputs": [],
   "source": [
    "def genA(redbls):\n",
    "    # number of measurements = total number of baselines\n",
    "    M = 0\n",
    "    for i in range(len(redbls)):\n",
    "        M += len(redbls[i])\n",
    "    \n",
    "    # number of parameters = num_ants + num_unique baselines\n",
    "    N = Nants + len(redbls)\n",
    "    \n",
    "    A = np.zeros([M,N],dtype=np.complex)\n",
    "    i = 0\n",
    "    for bl,reds in enumerate(redbls):\n",
    "        for pair in reds:\n",
    "            A[i,pair[0]] = 1+1j\n",
    "            A[i,pair[1]] = 1-1j\n",
    "            A[i,Nants+bl] = 1+1j\n",
    "            i += 1\n",
    "    return np.matrix(A)"
   ]
  },
  {
   "cell_type": "code",
   "execution_count": 28,
   "metadata": {
    "collapsed": true
   },
   "outputs": [],
   "source": [
    "A = genA(redbls)"
   ]
  },
  {
   "cell_type": "code",
   "execution_count": 30,
   "metadata": {},
   "outputs": [
    {
     "name": "stdout",
     "output_type": "stream",
     "text": [
      "(666, 100) 100\n"
     ]
    }
   ],
   "source": [
    "print A.shape, Nants+len(redbls)"
   ]
  },
  {
   "cell_type": "code",
   "execution_count": 31,
   "metadata": {},
   "outputs": [
    {
     "data": {
      "text/plain": [
       "matrix([[ 1.,  0.,  0., ...,  0.,  0.,  0.],\n",
       "        [ 0.,  1.,  0., ...,  0.,  0.,  0.],\n",
       "        [ 0.,  0.,  1., ...,  0.,  0.,  0.],\n",
       "        ..., \n",
       "        [ 1.,  0.,  0., ...,  1.,  0.,  0.],\n",
       "        [ 0.,  0.,  0., ...,  0.,  1.,  0.],\n",
       "        [ 0.,  0.,  0., ...,  0.,  0.,  1.]])"
      ]
     },
     "execution_count": 31,
     "metadata": {},
     "output_type": "execute_result"
    }
   ],
   "source": [
    "np.real(A)"
   ]
  },
  {
   "cell_type": "code",
   "execution_count": 34,
   "metadata": {},
   "outputs": [
    {
     "data": {
      "text/plain": [
       "matrix([[ 1.,  0.,  0.,  0.,  0.,  1.,  0.,  0.,  0.,  0.,  0.,  0.,  0.,\n",
       "          0.,  0.,  0.,  0.,  0.,  0.,  0.,  0.,  0.,  0.,  0.,  0.,  0.,\n",
       "          0.,  0.,  0.,  0.,  0.,  0.,  0.,  0.,  0.,  0.,  0.,  1.,  0.,\n",
       "          0.,  0.,  0.,  0.,  0.,  0.,  0.,  0.,  0.,  0.,  0.,  0.,  0.,\n",
       "          0.,  0.,  0.,  0.,  0.,  0.,  0.,  0.,  0.,  0.,  0.,  0.,  0.,\n",
       "          0.,  0.,  0.,  0.,  0.,  0.,  0.,  0.,  0.,  0.,  0.,  0.,  0.,\n",
       "          0.,  0.,  0.,  0.,  0.,  0.,  0.,  0.,  0.,  0.,  0.,  0.,  0.,\n",
       "          0.,  0.,  0.,  0.,  0.,  0.,  0.,  0.,  0.]])"
      ]
     },
     "execution_count": 34,
     "metadata": {},
     "output_type": "execute_result"
    }
   ],
   "source": [
    "np.real(A[0])"
   ]
  },
  {
   "cell_type": "code",
   "execution_count": 47,
   "metadata": {},
   "outputs": [
    {
     "data": {
      "text/plain": [
       "(array([0, 0, 0]), array([  1,   9, 128]))"
      ]
     },
     "execution_count": 47,
     "metadata": {},
     "output_type": "execute_result"
    }
   ],
   "source": [
    "np.where(A[1]!=0)"
   ]
  },
  {
   "cell_type": "code",
   "execution_count": 35,
   "metadata": {
    "collapsed": true
   },
   "outputs": [],
   "source": [
    "M = np.dot(np.real(A).T,np.real(A))"
   ]
  },
  {
   "cell_type": "code",
   "execution_count": 37,
   "metadata": {},
   "outputs": [
    {
     "name": "stdout",
     "output_type": "stream",
     "text": [
      "(100, 100) [[ 36.   1.   1.   1.   1.   1.   1.   1.   1.   1.   1.   1.   1.   1.\n",
      "    1.   1.   1.   1.   1.   1.   1.   1.   1.   1.   1.   1.   1.   1.\n",
      "    1.   1.   1.   1.   1.   1.   1.   1.   1.   1.   1.   1.   0.   1.\n",
      "    1.   1.   1.   1.   0.   1.   0.   1.   1.   1.   1.   1.   1.   0.\n",
      "    1.   1.   1.   0.   1.   1.   1.   0.   0.   1.   0.   0.   1.   1.\n",
      "    1.   1.   0.   0.   0.   0.   1.   0.   1.   0.   1.   0.   1.   1.\n",
      "    0.   1.   0.   0.   0.   0.   1.   1.   0.   1.   0.   0.   0.   1.\n",
      "    0.   0.]]\n"
     ]
    }
   ],
   "source": [
    "print M.shape, M[0]"
   ]
  },
  {
   "cell_type": "code",
   "execution_count": 38,
   "metadata": {
    "collapsed": true
   },
   "outputs": [],
   "source": [
    "U,S,V = np.linalg.svd(M)"
   ]
  },
  {
   "cell_type": "code",
   "execution_count": 39,
   "metadata": {},
   "outputs": [
    {
     "data": {
      "text/plain": [
       "array([  8.97654178e+01,   3.83550245e+01,   3.83362128e+01,\n",
       "         3.83362128e+01,   3.61401994e+01,   3.61112054e+01,\n",
       "         3.61112054e+01,   3.59117451e+01,   3.59117451e+01,\n",
       "         3.55801823e+01,   3.55386885e+01,   3.55386885e+01,\n",
       "         3.53169577e+01,   3.52692027e+01,   3.52692027e+01,\n",
       "         3.52113668e+01,   3.51328270e+01,   3.51328270e+01,\n",
       "         3.50542788e+01,   3.50000000e+01,   3.50000000e+01,\n",
       "         3.50000000e+01,   3.50000000e+01,   3.50000000e+01,\n",
       "         3.50000000e+01,   3.50000000e+01,   3.50000000e+01,\n",
       "         3.50000000e+01,   3.50000000e+01,   3.50000000e+01,\n",
       "         3.50000000e+01,   3.50000000e+01,   3.50000000e+01,\n",
       "         3.50000000e+01,   3.50000000e+01,   3.50000000e+01,\n",
       "         3.50000000e+01,   2.94603000e+01,   2.94603000e+01,\n",
       "         2.76151373e+01,   2.35456935e+01,   2.35456935e+01,\n",
       "         2.32218409e+01,   2.28182382e+01,   2.28182382e+01,\n",
       "         2.01871741e+01,   1.79011026e+01,   1.79011026e+01,\n",
       "         1.78864283e+01,   1.74758484e+01,   1.74758484e+01,\n",
       "         1.62510169e+01,   1.57558721e+01,   1.57558721e+01,\n",
       "         1.31858789e+01,   1.27284054e+01,   1.27284054e+01,\n",
       "         1.23498964e+01,   1.20000000e+01,   1.17297456e+01,\n",
       "         1.17297456e+01,   1.14280290e+01,   1.14280290e+01,\n",
       "         9.16643655e+00,   8.69714470e+00,   8.69714470e+00,\n",
       "         7.95304525e+00,   7.95304525e+00,   7.92919409e+00,\n",
       "         7.81776784e+00,   7.41560649e+00,   7.41560649e+00,\n",
       "         6.14769265e+00,   5.92969508e+00,   5.90372053e+00,\n",
       "         5.90372053e+00,   5.32822304e+00,   5.32822304e+00,\n",
       "         4.04925385e+00,   3.91669798e+00,   3.91669798e+00,\n",
       "         3.88012355e+00,   3.61154184e+00,   3.61154184e+00,\n",
       "         3.00000000e+00,   2.99960313e+00,   2.92419818e+00,\n",
       "         2.92419818e+00,   2.59975859e+00,   2.59975859e+00,\n",
       "         2.03578376e+00,   1.93772481e+00,   1.91897500e+00,\n",
       "         1.91897500e+00,   1.68016816e+00,   1.68016816e+00,\n",
       "         9.85924638e-01,   9.07803826e-01,   9.07803826e-01,\n",
       "         2.88305808e-15])"
      ]
     },
     "execution_count": 39,
     "metadata": {},
     "output_type": "execute_result"
    }
   ],
   "source": [
    "S"
   ]
  },
  {
   "cell_type": "code",
   "execution_count": 56,
   "metadata": {},
   "outputs": [
    {
     "data": {
      "image/png": "[encoded data removed]",
      "text/plain": [
       "<matplotlib.figure.Figure at 0x7f2f76e6ddd0>"
      ]
     },
     "metadata": {},
     "output_type": "display_data"
    }
   ],
   "source": [
    "plt.figure(figsize=(10,10))\n",
    "plt.plot(S,'o-')\n",
    "plt.show()"
   ]
  },
  {
   "cell_type": "code",
   "execution_count": 44,
   "metadata": {},
   "outputs": [
    {
     "data": {
      "text/plain": [
       "matrix([[ 0.05882353],\n",
       "        [ 0.05882353],\n",
       "        [ 0.05882353],\n",
       "        [ 0.05882353],\n",
       "        [ 0.05882353],\n",
       "        [ 0.05882353],\n",
       "        [ 0.05882353],\n",
       "        [ 0.05882353],\n",
       "        [ 0.05882353],\n",
       "        [ 0.05882353],\n",
       "        [ 0.05882353],\n",
       "        [ 0.05882353],\n",
       "        [ 0.05882353],\n",
       "        [ 0.05882353],\n",
       "        [ 0.05882353],\n",
       "        [ 0.05882353],\n",
       "        [ 0.05882353],\n",
       "        [ 0.05882353],\n",
       "        [ 0.05882353],\n",
       "        [ 0.05882353],\n",
       "        [ 0.05882353],\n",
       "        [ 0.05882353],\n",
       "        [ 0.05882353],\n",
       "        [ 0.05882353],\n",
       "        [ 0.05882353],\n",
       "        [ 0.05882353],\n",
       "        [ 0.05882353],\n",
       "        [ 0.05882353],\n",
       "        [ 0.05882353],\n",
       "        [ 0.05882353],\n",
       "        [ 0.05882353],\n",
       "        [ 0.05882353],\n",
       "        [ 0.05882353],\n",
       "        [ 0.05882353],\n",
       "        [ 0.05882353],\n",
       "        [ 0.05882353],\n",
       "        [ 0.05882353],\n",
       "        [-0.11764706],\n",
       "        [-0.11764706],\n",
       "        [-0.11764706],\n",
       "        [-0.11764706],\n",
       "        [-0.11764706],\n",
       "        [-0.11764706],\n",
       "        [-0.11764706],\n",
       "        [-0.11764706],\n",
       "        [-0.11764706],\n",
       "        [-0.11764706],\n",
       "        [-0.11764706],\n",
       "        [-0.11764706],\n",
       "        [-0.11764706],\n",
       "        [-0.11764706],\n",
       "        [-0.11764706],\n",
       "        [-0.11764706],\n",
       "        [-0.11764706],\n",
       "        [-0.11764706],\n",
       "        [-0.11764706],\n",
       "        [-0.11764706],\n",
       "        [-0.11764706],\n",
       "        [-0.11764706],\n",
       "        [-0.11764706],\n",
       "        [-0.11764706],\n",
       "        [-0.11764706],\n",
       "        [-0.11764706],\n",
       "        [-0.11764706],\n",
       "        [-0.11764706],\n",
       "        [-0.11764706],\n",
       "        [-0.11764706],\n",
       "        [-0.11764706],\n",
       "        [-0.11764706],\n",
       "        [-0.11764706],\n",
       "        [-0.11764706],\n",
       "        [-0.11764706],\n",
       "        [-0.11764706],\n",
       "        [-0.11764706],\n",
       "        [-0.11764706],\n",
       "        [-0.11764706],\n",
       "        [-0.11764706],\n",
       "        [-0.11764706],\n",
       "        [-0.11764706],\n",
       "        [-0.11764706],\n",
       "        [-0.11764706],\n",
       "        [-0.11764706],\n",
       "        [-0.11764706],\n",
       "        [-0.11764706],\n",
       "        [-0.11764706],\n",
       "        [-0.11764706],\n",
       "        [-0.11764706],\n",
       "        [-0.11764706],\n",
       "        [-0.11764706],\n",
       "        [-0.11764706],\n",
       "        [-0.11764706],\n",
       "        [-0.11764706],\n",
       "        [-0.11764706],\n",
       "        [-0.11764706],\n",
       "        [-0.11764706],\n",
       "        [-0.11764706],\n",
       "        [-0.11764706],\n",
       "        [-0.11764706],\n",
       "        [-0.11764706],\n",
       "        [-0.11764706]])"
      ]
     },
     "execution_count": 44,
     "metadata": {},
     "output_type": "execute_result"
    }
   ],
   "source": [
    "U[:,-1]"
   ]
  },
  {
   "cell_type": "code",
   "execution_count": 45,
   "metadata": {},
   "outputs": [
    {
     "data": {
      "text/plain": [
       "matrix([[ 0.13499132],\n",
       "        [ 0.13992692],\n",
       "        [ 0.13992692],\n",
       "        [ 0.13499132],\n",
       "        [ 0.13992692],\n",
       "        [ 0.14869663],\n",
       "        [ 0.1516153 ],\n",
       "        [ 0.14869663],\n",
       "        [ 0.13992692],\n",
       "        [ 0.13992692],\n",
       "        [ 0.1516153 ],\n",
       "        [ 0.15794249],\n",
       "        [ 0.15794249],\n",
       "        [ 0.1516153 ],\n",
       "        [ 0.13992692],\n",
       "        [ 0.13499132],\n",
       "        [ 0.14869663],\n",
       "        [ 0.15794249],\n",
       "        [ 0.16117712],\n",
       "        [ 0.15794249],\n",
       "        [ 0.14869663],\n",
       "        [ 0.13499132],\n",
       "        [ 0.13992692],\n",
       "        [ 0.1516153 ],\n",
       "        [ 0.15794249],\n",
       "        [ 0.15794249],\n",
       "        [ 0.1516153 ],\n",
       "        [ 0.13992692],\n",
       "        [ 0.13992692],\n",
       "        [ 0.14869663],\n",
       "        [ 0.1516153 ],\n",
       "        [ 0.14869663],\n",
       "        [ 0.13992692],\n",
       "        [ 0.13499132],\n",
       "        [ 0.13992692],\n",
       "        [ 0.13992692],\n",
       "        [ 0.13499132],\n",
       "        [ 0.1484167 ],\n",
       "        [ 0.1484167 ],\n",
       "        [ 0.1484167 ],\n",
       "        [ 0.10860538],\n",
       "        [ 0.10860538],\n",
       "        [ 0.10860538],\n",
       "        [ 0.10202643],\n",
       "        [ 0.10202643],\n",
       "        [ 0.10202643],\n",
       "        [ 0.07422795],\n",
       "        [ 0.07422795],\n",
       "        [ 0.07422795],\n",
       "        [ 0.07422795],\n",
       "        [ 0.07422795],\n",
       "        [ 0.07422795],\n",
       "        [ 0.06368856],\n",
       "        [ 0.06368856],\n",
       "        [ 0.06368856],\n",
       "        [ 0.04944452],\n",
       "        [ 0.04944452],\n",
       "        [ 0.04944452],\n",
       "        [ 0.0449094 ],\n",
       "        [ 0.0449094 ],\n",
       "        [ 0.0449094 ],\n",
       "        [ 0.0449094 ],\n",
       "        [ 0.0449094 ],\n",
       "        [ 0.0449094 ],\n",
       "        [ 0.03230513],\n",
       "        [ 0.03230513],\n",
       "        [ 0.03230513],\n",
       "        [ 0.02785461],\n",
       "        [ 0.02785461],\n",
       "        [ 0.02785461],\n",
       "        [ 0.02785461],\n",
       "        [ 0.02785461],\n",
       "        [ 0.02785461],\n",
       "        [ 0.02041616],\n",
       "        [ 0.02041616],\n",
       "        [ 0.02041616],\n",
       "        [ 0.02041616],\n",
       "        [ 0.02041616],\n",
       "        [ 0.02041616],\n",
       "        [ 0.01314147],\n",
       "        [ 0.01314147],\n",
       "        [ 0.01314147],\n",
       "        [ 0.01282187],\n",
       "        [ 0.01282187],\n",
       "        [ 0.01282187],\n",
       "        [ 0.00956245],\n",
       "        [ 0.00956245],\n",
       "        [ 0.00956245],\n",
       "        [ 0.00956245],\n",
       "        [ 0.00956245],\n",
       "        [ 0.00956245],\n",
       "        [ 0.00626484],\n",
       "        [ 0.00626484],\n",
       "        [ 0.00626484],\n",
       "        [ 0.00626484],\n",
       "        [ 0.00626484],\n",
       "        [ 0.00626484],\n",
       "        [ 0.00304153],\n",
       "        [ 0.00304153],\n",
       "        [ 0.00304153]])"
      ]
     },
     "execution_count": 45,
     "metadata": {},
     "output_type": "execute_result"
    }
   ],
   "source": [
    "U[:,0]"
   ]
  },
  {
   "cell_type": "code",
   "execution_count": 57,
   "metadata": {},
   "outputs": [
    {
     "data": {
      "text/plain": [
       "matrix([[ 0.21397922],\n",
       "        [ 0.12865952],\n",
       "        [ 0.12865952],\n",
       "        [ 0.21397922],\n",
       "        [ 0.12865952],\n",
       "        [ 0.00426969],\n",
       "        [-0.07052632],\n",
       "        [ 0.00426969],\n",
       "        [ 0.12865952],\n",
       "        [ 0.12865952],\n",
       "        [-0.07052632],\n",
       "        [-0.2192312 ],\n",
       "        [-0.2192312 ],\n",
       "        [-0.07052632],\n",
       "        [ 0.12865952],\n",
       "        [ 0.21397922],\n",
       "        [ 0.00426969],\n",
       "        [-0.2192312 ],\n",
       "        [-0.30571807],\n",
       "        [-0.2192312 ],\n",
       "        [ 0.00426969],\n",
       "        [ 0.21397922],\n",
       "        [ 0.12865952],\n",
       "        [-0.07052632],\n",
       "        [-0.2192312 ],\n",
       "        [-0.2192312 ],\n",
       "        [-0.07052632],\n",
       "        [ 0.12865952],\n",
       "        [ 0.12865952],\n",
       "        [ 0.00426969],\n",
       "        [-0.07052632],\n",
       "        [ 0.00426969],\n",
       "        [ 0.12865952],\n",
       "        [ 0.21397922],\n",
       "        [ 0.12865952],\n",
       "        [ 0.12865952],\n",
       "        [ 0.21397922],\n",
       "        [-0.08316703],\n",
       "        [-0.08316703],\n",
       "        [-0.08316703],\n",
       "        [-0.10543244],\n",
       "        [-0.10543244],\n",
       "        [-0.10543244],\n",
       "        [-0.06206525],\n",
       "        [-0.06206525],\n",
       "        [-0.06206525],\n",
       "        [-0.03047471],\n",
       "        [-0.03047471],\n",
       "        [-0.03047471],\n",
       "        [-0.03047471],\n",
       "        [-0.03047471],\n",
       "        [-0.03047471],\n",
       "        [ 0.00580813],\n",
       "        [ 0.00580813],\n",
       "        [ 0.00580813],\n",
       "        [ 0.02375028],\n",
       "        [ 0.02375028],\n",
       "        [ 0.02375028],\n",
       "        [ 0.02820114],\n",
       "        [ 0.02820114],\n",
       "        [ 0.02820114],\n",
       "        [ 0.02820114],\n",
       "        [ 0.02820114],\n",
       "        [ 0.02820114],\n",
       "        [ 0.02538599],\n",
       "        [ 0.02538599],\n",
       "        [ 0.02538599],\n",
       "        [ 0.0495437 ],\n",
       "        [ 0.0495437 ],\n",
       "        [ 0.0495437 ],\n",
       "        [ 0.0495437 ],\n",
       "        [ 0.0495437 ],\n",
       "        [ 0.0495437 ],\n",
       "        [ 0.03299031],\n",
       "        [ 0.03299031],\n",
       "        [ 0.03299031],\n",
       "        [ 0.03299031],\n",
       "        [ 0.03299031],\n",
       "        [ 0.03299031],\n",
       "        [ 0.0276855 ],\n",
       "        [ 0.0276855 ],\n",
       "        [ 0.0276855 ],\n",
       "        [ 0.03989387],\n",
       "        [ 0.03989387],\n",
       "        [ 0.03989387],\n",
       "        [ 0.02666089],\n",
       "        [ 0.02666089],\n",
       "        [ 0.02666089],\n",
       "        [ 0.02666089],\n",
       "        [ 0.02666089],\n",
       "        [ 0.02666089],\n",
       "        [ 0.01884959],\n",
       "        [ 0.01884959],\n",
       "        [ 0.01884959],\n",
       "        [ 0.01884959],\n",
       "        [ 0.01884959],\n",
       "        [ 0.01884959],\n",
       "        [ 0.01145652],\n",
       "        [ 0.01145652],\n",
       "        [ 0.01145652]])"
      ]
     },
     "execution_count": 57,
     "metadata": {},
     "output_type": "execute_result"
    }
   ],
   "source": [
    "U[:,1]"
   ]
  },
  {
   "cell_type": "code",
   "execution_count": null,
   "metadata": {
    "collapsed": true
   },
   "outputs": [],
   "source": []
  }
 ],
 "metadata": {
  "anaconda-cloud": {},
  "kernelspec": {
   "display_name": "Python [conda env:py2.7]",
   "language": "python",
   "name": "conda-env-py2.7-py"
  },
  "language_info": {
   "codemirror_mode": {
    "name": "ipython",
    "version": 2
   },
   "file_extension": ".py",
   "mimetype": "text/x-python",
   "name": "python",
   "nbconvert_exporter": "python",
   "pygments_lexer": "ipython2",
   "version": "2.7.12"
  }
 },
 "nbformat": 4,
 "nbformat_minor": 1
}
