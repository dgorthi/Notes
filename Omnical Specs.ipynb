{
 "cells": [
  {
   "cell_type": "code",
   "execution_count": 1,
   "metadata": {},
   "outputs": [],
   "source": [
    "%matplotlib inline\n",
    "from __future__ import print_function\n",
    "import hera_cal.redcal as om\n",
    "import hera_cal.omni\n",
    "import omnical.calib\n",
    "import numpy as np\n",
    "import time\n",
    "import uvtools\n",
    "import pylab as plt\n",
    "from scipy.stats import kde, chi2"
   ]
  },
  {
   "cell_type": "code",
   "execution_count": null,
   "metadata": {},
   "outputs": [],
   "source": [
    "def build_hex_array(hexNum, sep=14.7):\n",
    "    antpos, i = {}, 0\n",
    "    for row in range(hexNum - 1, -(hexNum), -1):\n",
    "        for col in range(2 * hexNum - abs(row) - 1):\n",
    "            xPos = ((-(2 * hexNum - abs(row)) + 2) / 2.0 + col) * sep\n",
    "            yPos = row * sep * 3**.5 / 2\n",
    "            antpos[i] = np.array([xPos, yPos, 0])\n",
    "            i += 1\n",
    "    return antpos"
   ]
  },
  {
   "cell_type": "code",
   "execution_count": null,
   "metadata": {},
   "outputs": [],
   "source": [
    "np.random.seed(0)\n",
    "SHAPE = (20,1024)\n",
    "NANTS = 37\n",
    "NOISE = 1e-3\n",
    "\n",
    "Nants = 19\n",
    "\n",
    "ants = np.loadtxt('antenna_positions_%d.dat'%Nants)\n",
    "idxs = np.arange(Nants)\n",
    "antpos = {}\n",
    "for k,v in zip(idxs,ants):\n",
    "    antpos[k] = v\n",
    "    \n",
    "reds = om.get_reds(antpos, pols=['xx'], pol_mode='1pol')\n",
    "\n",
    "info = om.RedundantCalibrator(reds)\n",
    "\n",
    "gains, true_vis, d = om.sim_red_data(reds, shape=SHAPE, gain_scatter=.01)\n",
    "d = {key: value.astype(np.complex64) for key,value in d.items()}\n",
    "d_nos = {key: value + NOISE * om.noise(value.shape) for key,value in d.items()}\n",
    "d_nos = {key: value.astype(np.complex64) for key,value in d_nos.items()}\n",
    "\n",
    "w = dict([(k, np.float32(1.)) for k in d.keys()])\n",
    "sol0 = dict([(k, np.ones_like(v)) for k, v in gains.items()])\n",
    "sol0.update(info.compute_ubls(d, sol0))\n",
    "sol0 = {k:v.astype(np.complex64) for k,v in sol0.items()}"
   ]
  },
  {
   "cell_type": "code",
   "execution_count": null,
   "metadata": {},
   "outputs": [],
   "source": [
    "def gen_chisq(data, sol, noise):\n",
    "    d_mdl = {}\n",
    "    for bls in reds:\n",
    "        if len(bls) <= 1: continue\n",
    "        ubl = sol[bls[0]]\n",
    "    for bl in bls:\n",
    "        d_mdl[(bl[0],bl[1],'xx')] = \\\n",
    "        sol[(bl[0],'x')] * sol[(bl[1],'x')].conj() * ubl\n",
    "    res = [data[k] - v for k,v in d_mdl.items()]\n",
    "    chisq = np.sum(np.abs(res)**2 / noise**2, axis=0) / (len(res) - len(sol))\n",
    "    return chisq"
   ]
  },
  {
   "cell_type": "code",
   "execution_count": null,
   "metadata": {},
   "outputs": [],
   "source": [
    "def plot_gain_residuals(sol, true_gains, lim, nbins=20):\n",
    "    sol_degen = info.remove_degen(sol, degen_sol=true_gains)\n",
    "    keys = [k for k in sol.keys() if len(k) == 2]\n",
    "    fig,(ax,ax2) = plt.subplots(1,2,sharey=True,figsize=(8,4))\n",
    "    \n",
    "    for k in keys:\n",
    "        res = sol_degen[k] - true_gains[k]\n",
    "        res = res.flatten()\n",
    "        res = res[np.where(np.isfinite(res))]\n",
    " \n",
    "        _ = ax.plot(res.real, res.imag, '.', alpha=.2)\n",
    "        res = np.array([res.real, res.imag])\n",
    "        x,y = res\n",
    "        k = kde.gaussian_kde(res)\n",
    "        xi, yi = np.mgrid[x.min():x.max():nbins*1j, y.min():y.max():nbins*1j]\n",
    "        zi = k(np.vstack([xi.flatten(), yi.flatten()]))\n",
    "        \n",
    "        ax2.grid()\n",
    "        _ = ax2.contour(xi, yi, zi.reshape(xi.shape), alpha=.5)\n",
    "        \n",
    "    ax2.set_xlabel('$\\Delta$g, real')\n",
    "    ax2.set_xlim(-lim,lim)\n",
    "    #ax2.setp(ax2.get_yticklabels(), visible=False)\n",
    "    ax2.grid(b=True, which='major', color='k', linestyle='-')\n",
    "    \n",
    "    ax.set_xlabel('$\\Delta$g, real')\n",
    "    ax.set_ylabel('$\\Delta$g, imag')\n",
    "    ax.set_xlim(-lim,lim); plt.ylim(-lim,lim)\n",
    "    ax.grid(b=True, which='major', color='k', linestyle='-')"
   ]
  },
  {
   "cell_type": "code",
   "execution_count": null,
   "metadata": {},
   "outputs": [],
   "source": [
    "# LOGCAL\n",
    "t0 = time.time()\n",
    "sol_logcal = info.logcal(d, wgts=w)\n",
    "print('LOGCAL: %4.1f s' % (time.time() - t0),\n",
    "      sol_logcal.values()[0].dtype)\n",
    "\n",
    "t0 = time.time()\n",
    "sol_nos_logcal = info.logcal(d_nos, wgts=w)\n",
    "print('LOGCAL: %4.1f s' % (time.time() - t0),\n",
    "      sol_nos_logcal.values()[0].dtype)"
   ]
  },
  {
   "cell_type": "code",
   "execution_count": null,
   "metadata": {},
   "outputs": [],
   "source": [
    "plot_gain_residuals(sol_nos_logcal, gains, 0.02)"
   ]
  },
  {
   "cell_type": "code",
   "execution_count": null,
   "metadata": {},
   "outputs": [],
   "source": [
    "# OMNICAL\n",
    "t0 = time.time()\n",
    "meta_omnical, sol_omnical = info.omnical(d, sol0, \n",
    "                                         gain=.5, maxiter=500, check_after=30, check_every=6)\n",
    "print('OMNICAL: %4.1f s' % (time.time() - t0), \n",
    "      sol_omnical.values()[0].dtype)\n",
    "\n",
    "t0 = time.time()\n",
    "meta_nos_omnical, sol_nos_omnical = info.omnical(d_nos, sol0, \n",
    "                                                 gain=.5, maxiter=500, check_after=30, check_every=6)\n",
    "print('OMNICAL: %4.1f s' % (time.time() - t0), \n",
    "      sol_nos_omnical.values()[0].dtype)"
   ]
  },
  {
   "cell_type": "code",
   "execution_count": null,
   "metadata": {},
   "outputs": [
    {
     "name": "stdout",
     "output_type": "stream",
     "text": [
      "NANTS: 37\n",
      "\n",
      "\n",
      "OMNICAL no noise: 27.6 s complex64\n",
      "OMNICAL with noise: 12.1 s complex64\n",
      "NANTS: 128\n",
      "\n",
      "\n"
     ]
    }
   ],
   "source": [
    "np.random.seed(0)\n",
    "SHAPE = (10,2048)\n",
    "NOISE = 1e-3\n",
    "\n",
    "for Nants in [37, 128, 243, 350]:\n",
    "\n",
    "    ants = np.loadtxt('antenna_positions_%d.dat'%Nants)\n",
    "    idxs = np.arange(Nants)\n",
    "    antpos = {}\n",
    "    for k,v in zip(idxs,ants):\n",
    "        antpos[k] = v\n",
    "\n",
    "    reds = om.get_reds(antpos, pols=['xx'], pol_mode='1pol')\n",
    "\n",
    "    info = om.RedundantCalibrator(reds)\n",
    "\n",
    "    gains, true_vis, d = om.sim_red_data(reds, shape=SHAPE, gain_scatter=.01)\n",
    "    d = {key: value.astype(np.complex64) for key,value in d.items()}\n",
    "    d_nos = {key: value + NOISE * om.noise(value.shape) for key,value in d.items()}\n",
    "    d_nos = {key: value.astype(np.complex64) for key,value in d_nos.items()}\n",
    "\n",
    "    w = dict([(k, np.float32(1.)) for k in d.keys()])\n",
    "    sol0 = dict([(k, np.ones_like(v)) for k, v in gains.items()])\n",
    "    sol0.update(info.compute_ubls(d, sol0))\n",
    "    sol0 = {k:v.astype(np.complex64) for k,v in sol0.items()}\n",
    "    \n",
    "    print('NANTS: %d\\n\\n'%Nants)\n",
    "    \n",
    "    t0 = time.time()\n",
    "    meta_omnical, sol_omnical = info.omnical(d, sol0, \n",
    "                                             gain=.5, maxiter=500, check_after=30, check_every=6)\n",
    "    print('OMNICAL no noise: %4.1f s' % (time.time() - t0), \n",
    "          sol_omnical.values()[0].dtype)\n",
    "\n",
    "    t0 = time.time()\n",
    "    meta_nos_omnical, sol_nos_omnical = info.omnical(d_nos, sol0, \n",
    "                                                     gain=.5, maxiter=500, check_after=30, check_every=6)\n",
    "    print('OMNICAL with noise: %4.1f s' % (time.time() - t0), \n",
    "          sol_nos_omnical.values()[0].dtype)"
   ]
  },
  {
   "cell_type": "code",
   "execution_count": null,
   "metadata": {},
   "outputs": [],
   "source": []
  }
 ],
 "metadata": {
  "kernelspec": {
   "display_name": "Python 2",
   "language": "python",
   "name": "python2"
  },
  "language_info": {
   "codemirror_mode": {
    "name": "ipython",
    "version": 2
   },
   "file_extension": ".py",
   "mimetype": "text/x-python",
   "name": "python",
   "nbconvert_exporter": "python",
   "pygments_lexer": "ipython2",
   "version": "2.7.15"
  }
 },
 "nbformat": 4,
 "nbformat_minor": 2
}
